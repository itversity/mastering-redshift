{
 "cells": [
  {
   "cell_type": "code",
   "execution_count": null,
   "id": "c3f1e543-8e45-4862-8c36-eb3d76cdd3fa",
   "metadata": {},
   "outputs": [],
   "source": [
    "import psycopg2"
   ]
  },
  {
   "cell_type": "code",
   "execution_count": null,
   "id": "58ef9680-3958-4741-9201-8ba16a2519c0",
   "metadata": {},
   "outputs": [],
   "source": [
    "psycopg2.connect?"
   ]
  },
  {
   "cell_type": "markdown",
   "id": "34c7cbf6-bcb2-4520-baf4-7401c616e752",
   "metadata": {},
   "source": [
    "Here is the information which is used to connect to Redshift Cluster using Python psycopg2 library.\n",
    "\n",
    "```text\n",
    "Host: retail.ckxblouy7rzo.us-east-1.redshift.amazonaws.com\n",
    "Port: 5439\n",
    "Database: retail_db\n",
    "User: retail_user\n",
    "Password: Itv3rs1ty\n",
    "```"
   ]
  },
  {
   "cell_type": "code",
   "execution_count": null,
   "id": "68e52caa-617d-4a24-aa1a-4355bf7b2e02",
   "metadata": {},
   "outputs": [],
   "source": [
    "conn = psycopg2.connect(\n",
    "    host='retail.ckxblouy7rzo.us-east-1.redshift.amazonaws.com',\n",
    "    port=5439,\n",
    "    database='retail_db',\n",
    "    user='retail_user',\n",
    "    password='Itv3rs1ty'\n",
    ")"
   ]
  },
  {
   "cell_type": "code",
   "execution_count": null,
   "id": "bc87ce57-89e2-487e-acab-1da43baab473",
   "metadata": {},
   "outputs": [],
   "source": [
    "cursor = conn.cursor()"
   ]
  },
  {
   "cell_type": "code",
   "execution_count": null,
   "id": "57eb0908-31d7-4da3-ba1d-733b2648fcab",
   "metadata": {},
   "outputs": [],
   "source": [
    "truncate_stmt = 'TRUNCATE TABLE order_items'"
   ]
  },
  {
   "cell_type": "code",
   "execution_count": null,
   "id": "004cfbfe-edb7-4a7c-b099-37854e20fcdb",
   "metadata": {},
   "outputs": [],
   "source": [
    "cursor.execute(truncate_stmt)"
   ]
  },
  {
   "cell_type": "code",
   "execution_count": null,
   "id": "4f809136-2fe3-49ee-85a2-708d103ab6e3",
   "metadata": {},
   "outputs": [],
   "source": [
    "cursor.close()"
   ]
  }
 ],
 "metadata": {
  "language_info": {
   "name": "python"
  },
  "orig_nbformat": 4
 },
 "nbformat": 4,
 "nbformat_minor": 2
}
