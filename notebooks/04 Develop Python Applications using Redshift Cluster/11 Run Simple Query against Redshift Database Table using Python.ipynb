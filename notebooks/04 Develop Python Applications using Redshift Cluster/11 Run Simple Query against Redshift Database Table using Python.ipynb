{
 "cells": [
  {
   "cell_type": "code",
   "execution_count": null,
   "id": "c3f1e543-8e45-4862-8c36-eb3d76cdd3fa",
   "metadata": {},
   "outputs": [],
   "source": [
    "import psycopg2"
   ]
  },
  {
   "cell_type": "code",
   "execution_count": null,
   "id": "58ef9680-3958-4741-9201-8ba16a2519c0",
   "metadata": {},
   "outputs": [],
   "source": [
    "psycopg2.connect?"
   ]
  },
  {
   "cell_type": "markdown",
   "id": "34c7cbf6-bcb2-4520-baf4-7401c616e752",
   "metadata": {},
   "source": [
    "Here is the information which is used to connect to Redshift Cluster using Python psycopg2 library.\n",
    "\n",
    "```text\n",
    "Host: retail.ckxblouy7rzo.us-east-1.redshift.amazonaws.com\n",
    "Port: 5439\n",
    "Database: retail_db\n",
    "User: retail_user\n",
    "Password: Itv3rs1ty\n",
    "```"
   ]
  },
  {
   "cell_type": "code",
   "execution_count": null,
   "id": "68e52caa-617d-4a24-aa1a-4355bf7b2e02",
   "metadata": {},
   "outputs": [],
   "source": [
    "conn = psycopg2.connect(\n",
    "    host='retail.ckxblouy7rzo.us-east-1.redshift.amazonaws.com',\n",
    "    port=5439,\n",
    "    database='retail_db',\n",
    "    user='retail_user',\n",
    "    password='Itv3rs1ty'\n",
    ")"
   ]
  },
  {
   "cell_type": "code",
   "execution_count": null,
   "id": "bc87ce57-89e2-487e-acab-1da43baab473",
   "metadata": {},
   "outputs": [],
   "source": [
    "cursor = conn.cursor()"
   ]
  },
  {
   "cell_type": "code",
   "execution_count": null,
   "id": "57eb0908-31d7-4da3-ba1d-733b2648fcab",
   "metadata": {},
   "outputs": [],
   "source": [
    "query_str = 'SELECT * FROM orders LIMIT 10'"
   ]
  },
  {
   "cell_type": "code",
   "execution_count": null,
   "id": "004cfbfe-edb7-4a7c-b099-37854e20fcdb",
   "metadata": {},
   "outputs": [],
   "source": [
    "cursor.execute(query_str)"
   ]
  },
  {
   "cell_type": "code",
   "execution_count": null,
   "id": "18fc450f-043b-40e9-8636-a73ede4d2f5a",
   "metadata": {},
   "outputs": [],
   "source": [
    "for rec in cursor:\n",
    "    print(rec)"
   ]
  },
  {
   "cell_type": "code",
   "execution_count": null,
   "id": "4f809136-2fe3-49ee-85a2-708d103ab6e3",
   "metadata": {},
   "outputs": [],
   "source": [
    "cursor.close()"
   ]
  }
 ],
 "metadata": {
  "kernelspec": {
   "display_name": "Python 3.9.12 64-bit",
   "language": "python",
   "name": "python3"
  },
  "language_info": {
   "name": "python",
   "version": "3.9.12"
  },
  "orig_nbformat": 4,
  "vscode": {
   "interpreter": {
    "hash": "b0fa6594d8f4cbf19f97940f81e996739fb7646882a419484c72d19e05852a7e"
   }
  }
 },
 "nbformat": 4,
 "nbformat_minor": 2
}
