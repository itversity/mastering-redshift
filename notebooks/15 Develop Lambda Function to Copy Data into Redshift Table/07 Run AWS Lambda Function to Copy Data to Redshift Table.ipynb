{
 "cells": [
  {
   "cell_type": "markdown",
   "metadata": {},
   "source": [
    "Here are the instructions to run AWS Lambda Function to copy data from AWS s3 to Redshift Serverless Workgroup Table.\n",
    "* Update AWS IAM Role associated with Lambda Function with following permissions.\n",
    "  * Read only access to Secret.\n",
    "  * Required access to Redshift Data API to run the queries.\n",
    "* Truncate the table so that it is empty before loading data again by testing the lambda function.\n",
    "* Make sure to update memory and timeout settings and also configure required environment variables (for delay and max attempts).\n",
    "* Create Test Event using the below JSON.\n",
    "\n",
    "```json\n",
    "{\n",
    "  \"Bucket\": \"airetail\",\n",
    "  \"SecretArn\": \"arn:aws:secretsmanager:us-east-1:269066542444:secret:demo/retailadmin/redshiftwg-aYrFGW\",\n",
    "  \"TableName\": \"daily_product_revenue\"\n",
    "}\n",
    "```"
   ]
  },
  {
   "cell_type": "markdown",
   "metadata": {},
   "source": []
  }
 ],
 "metadata": {
  "language_info": {
   "name": "python"
  },
  "orig_nbformat": 4
 },
 "nbformat": 4,
 "nbformat_minor": 2
}
