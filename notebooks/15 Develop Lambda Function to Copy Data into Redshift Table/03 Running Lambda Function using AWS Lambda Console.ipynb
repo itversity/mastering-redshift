{
 "cells": [
  {
   "cell_type": "markdown",
   "metadata": {},
   "source": [
    "Here are the instructions to run the Lambda Function which need to interact with AWS s3.\n",
    "* Make sure required permissions on AWS s3 bucket to the AWS IAM Role associated with Lambda Function.\n",
    "* Change the memory and timeout settings.\n",
    "* Create test event as below to test using JSON Format.\n",
    "\n",
    "```json\n",
    "{\n",
    "    \"Bucket\": \"airetail\"\n",
    "}\n",
    "```"
   ]
  },
  {
   "cell_type": "markdown",
   "metadata": {},
   "source": []
  }
 ],
 "metadata": {
  "kernelspec": {
   "display_name": "Python 3.10.4 64-bit",
   "language": "python",
   "name": "python3"
  },
  "language_info": {
   "name": "python",
   "version": "3.10.4"
  },
  "orig_nbformat": 4,
  "vscode": {
   "interpreter": {
    "hash": "b460384b52104c1e5b9cf54bee46a255d22b2bef338f75ac4ad5d48196028d3c"
   }
  }
 },
 "nbformat": 4,
 "nbformat_minor": 2
}
