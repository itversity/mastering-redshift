{
 "cells": [
  {
   "cell_type": "code",
   "execution_count": null,
   "metadata": {},
   "outputs": [],
   "source": [
    "import boto3\n",
    "\n",
    "def lambda_handler(event, context):\n",
    "    try:\n",
    "        bucket_name = event['Bucket']\n",
    "        s3_client = boto3.client('s3')\n",
    "        objects = s3_client.list_objects(\n",
    "            Bucket=bucket_name,\n",
    "            Prefix='retail_db_json'\n",
    "        )['Contents']\n",
    "        object_count = len(objects)\n",
    "    except:\n",
    "        raise\n",
    "    return {\n",
    "        'statusCode': 200,\n",
    "        'objectCount': object_count\n",
    "    }\n"
   ]
  }
 ],
 "metadata": {
  "kernelspec": {
   "display_name": "Python 3.10.4 64-bit",
   "language": "python",
   "name": "python3"
  },
  "language_info": {
   "name": "python",
   "version": "3.10.4"
  },
  "orig_nbformat": 4,
  "vscode": {
   "interpreter": {
    "hash": "b460384b52104c1e5b9cf54bee46a255d22b2bef338f75ac4ad5d48196028d3c"
   }
  }
 },
 "nbformat": 4,
 "nbformat_minor": 2
}
