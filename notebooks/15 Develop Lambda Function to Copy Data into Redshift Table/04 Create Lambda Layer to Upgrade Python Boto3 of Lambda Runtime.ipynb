{
 "cells": [
  {
   "cell_type": "markdown",
   "metadata": {},
   "source": [
    "Here are the instructions to setup Lambda Layer with latest version of Boto3 of AWS Lambda Runtime. We will be using Cloud Shell to run the commands relevant to creating the layer. However, we can use any client with right Python version (3.6+)\n",
    "\n",
    "* Create a folder by name **layers/boto3-1.24.33** in Cloud Shell. You can use `mkdir -p layers/boto3-1.24.33/python`. The lowest or leaf level folder should be named as **python**.\n",
    "* Make sure to get into that folder by running `cd layers/boto3-1.24.33`.\n",
    "* Use `python3 -m pip install boto3==1.24.33 -t python`.\n",
    "* Create the zip file by running `zip -r boto3-1.24.33.zip .`.\n",
    "* Copy the zip file to s3. Here is the command for the same.\n",
    "```shell\n",
    "aws s3 cp boto3-1.24.33.zip s3://airetail/layers/boto3-1.24.33/boto3-1.24.33.zip\n",
    "```"
   ]
  },
  {
   "cell_type": "markdown",
   "metadata": {},
   "source": []
  }
 ],
 "metadata": {
  "kernelspec": {
   "display_name": "Python 3.10.4 64-bit",
   "language": "python",
   "name": "python3"
  },
  "language_info": {
   "name": "python",
   "version": "3.10.4"
  },
  "orig_nbformat": 4,
  "vscode": {
   "interpreter": {
    "hash": "b460384b52104c1e5b9cf54bee46a255d22b2bef338f75ac4ad5d48196028d3c"
   }
  }
 },
 "nbformat": 4,
 "nbformat_minor": 2
}
