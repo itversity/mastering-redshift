{
 "cells": [
  {
   "cell_type": "code",
   "execution_count": null,
   "metadata": {},
   "outputs": [],
   "source": [
    "%load_ext sql"
   ]
  },
  {
   "cell_type": "code",
   "execution_count": null,
   "metadata": {},
   "outputs": [],
   "source": [
    "%%sql\n",
    "\n",
    "CREATE OR REPLACE VIEW daily_product_revenue_v\n",
    "AS\n",
    "SELECT pd.product_id,\n",
    "    pd.product_name,\n",
    "    pd.product_category_id,\n",
    "    pd.category_name,\n",
    "    pd.category_department_id,\n",
    "    pd.department_name,\n",
    "    dpr.order_date,\n",
    "    round(sum(dpr.revenue), 2) AS revenue\n",
    "FROM daily_product_revenue AS dpr\n",
    "    JOIN product_dim AS pd\n",
    "        ON dpr.order_item_product_id = pd.product_id\n",
    "WHERE dpr.order_status IN ('COMPLETE', 'CLOSED')\n",
    "GROUP BY pd.product_id,\n",
    "    pd.product_name,\n",
    "    pd.product_category_id,\n",
    "    pd.category_name,\n",
    "    pd.category_department_id,\n",
    "    pd.department_name,\n",
    "    dpr.order_date\n",
    "ORDER BY dpr.order_date,\n",
    "    revenue DESC;"
   ]
  },
  {
   "cell_type": "code",
   "execution_count": null,
   "metadata": {},
   "outputs": [],
   "source": [
    "%%sql\n",
    "\n",
    "SELECT * FROM daily_product_revenue_v LIMIT 10;"
   ]
  },
  {
   "cell_type": "code",
   "execution_count": null,
   "metadata": {},
   "outputs": [],
   "source": [
    "%%sql\n",
    "\n",
    "SELECT count(*) FROM daily_product_revenue_v;"
   ]
  },
  {
   "cell_type": "code",
   "execution_count": null,
   "metadata": {},
   "outputs": [],
   "source": [
    "%%sql\n",
    "\n",
    "SELECT order_date,\n",
    "    product_id,\n",
    "    product_name,\n",
    "    revenue,\n",
    "    dense_rank() OVER (PARTITION BY order_date ORDER BY revenue DESC) AS drnk\n",
    "FROM daily_product_revenue_v\n",
    "ORDER BY order_date, drnk\n",
    "LIMIT 10;"
   ]
  },
  {
   "cell_type": "code",
   "execution_count": null,
   "metadata": {},
   "outputs": [],
   "source": [
    "%%sql\n",
    "\n",
    "WITH \n",
    "    daily_ranked_products AS (\n",
    "        SELECT order_date,\n",
    "            product_id,\n",
    "            product_name,\n",
    "            revenue,\n",
    "            dense_rank() OVER (PARTITION BY order_date ORDER BY revenue DESC) AS drnk\n",
    "        FROM daily_product_revenue_v\n",
    "    )\n",
    "SELECT * FROM daily_ranked_products\n",
    "WHERE drnk <= 3\n",
    "ORDER BY order_date,\n",
    "    drnk\n",
    "LIMIT 10;"
   ]
  },
  {
   "cell_type": "code",
   "execution_count": null,
   "metadata": {},
   "outputs": [],
   "source": [
    "%%sql\n",
    "\n",
    "SELECT * FROM (\n",
    "    SELECT order_date,\n",
    "        product_id,\n",
    "        product_name,\n",
    "        revenue,\n",
    "        dense_rank() OVER (PARTITION BY order_date ORDER BY revenue DESC) AS drnk\n",
    "    FROM daily_product_revenue_v\n",
    ")\n",
    "WHERE drnk <= 3\n",
    "ORDER BY order_date,\n",
    "    drnk\n",
    "LIMIT 10;"
   ]
  },
  {
   "cell_type": "code",
   "execution_count": null,
   "metadata": {},
   "outputs": [],
   "source": []
  }
 ],
 "metadata": {
  "kernelspec": {
   "display_name": "Python 3.9.12 ('mr-venv': venv)",
   "language": "python",
   "name": "python3"
  },
  "language_info": {
   "codemirror_mode": {
    "name": "ipython",
    "version": 3
   },
   "file_extension": ".py",
   "mimetype": "text/x-python",
   "name": "python",
   "nbconvert_exporter": "python",
   "pygments_lexer": "ipython3",
   "version": "3.9.12"
  },
  "orig_nbformat": 4,
  "vscode": {
   "interpreter": {
    "hash": "717b0984b08fa49729458a2f744fd21cee18cedafc19a5cab745ce1cf3f48a98"
   }
  }
 },
 "nbformat": 4,
 "nbformat_minor": 2
}
