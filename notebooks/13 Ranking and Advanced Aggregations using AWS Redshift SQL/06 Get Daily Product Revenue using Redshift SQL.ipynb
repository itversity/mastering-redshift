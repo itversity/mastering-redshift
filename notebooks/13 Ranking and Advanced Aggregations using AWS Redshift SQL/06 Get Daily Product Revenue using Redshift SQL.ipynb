{
 "cells": [
  {
   "cell_type": "code",
   "execution_count": null,
   "metadata": {},
   "outputs": [],
   "source": [
    "%load_ext sql"
   ]
  },
  {
   "cell_type": "code",
   "execution_count": null,
   "metadata": {},
   "outputs": [],
   "source": [
    "%%sql\n",
    "\n",
    "SELECT * FROM product_dim LIMIT 10;"
   ]
  },
  {
   "cell_type": "code",
   "execution_count": null,
   "metadata": {},
   "outputs": [],
   "source": [
    "%%sql\n",
    "\n",
    "SELECT * FROM daily_product_revenue LIMIT 10;"
   ]
  },
  {
   "cell_type": "code",
   "execution_count": null,
   "metadata": {},
   "outputs": [],
   "source": [
    "%%sql\n",
    "\n",
    "SELECT pd.product_id,\n",
    "    pd.product_name,\n",
    "    pd.product_category_id,\n",
    "    pd.category_name,\n",
    "    pd.category_department_id,\n",
    "    pd.department_name,\n",
    "    dpr.order_date,\n",
    "    round(sum(dpr.revenue), 2) AS revenue\n",
    "FROM daily_product_revenue AS dpr\n",
    "    JOIN product_dim AS pd\n",
    "        ON dpr.order_item_product_id = pd.product_id\n",
    "WHERE dpr.order_status IN ('COMPLETE', 'CLOSED')\n",
    "GROUP BY pd.product_id,\n",
    "    pd.product_name,\n",
    "    pd.product_category_id,\n",
    "    pd.category_name,\n",
    "    pd.category_department_id,\n",
    "    pd.department_name,\n",
    "    dpr.order_date\n",
    "ORDER BY dpr.order_date,\n",
    "    revenue DESC\n",
    "LIMIT 10"
   ]
  },
  {
   "cell_type": "code",
   "execution_count": null,
   "metadata": {},
   "outputs": [],
   "source": []
  }
 ],
 "metadata": {
  "kernelspec": {
   "display_name": "Python 3.9.12 ('mr-venv': venv)",
   "language": "python",
   "name": "python3"
  },
  "language_info": {
   "codemirror_mode": {
    "name": "ipython",
    "version": 3
   },
   "file_extension": ".py",
   "mimetype": "text/x-python",
   "name": "python",
   "nbconvert_exporter": "python",
   "pygments_lexer": "ipython3",
   "version": "3.9.12"
  },
  "orig_nbformat": 4,
  "vscode": {
   "interpreter": {
    "hash": "717b0984b08fa49729458a2f744fd21cee18cedafc19a5cab745ce1cf3f48a98"
   }
  }
 },
 "nbformat": 4,
 "nbformat_minor": 2
}
