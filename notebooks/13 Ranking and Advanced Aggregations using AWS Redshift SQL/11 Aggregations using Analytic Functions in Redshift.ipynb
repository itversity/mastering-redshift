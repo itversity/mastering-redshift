{
 "cells": [
  {
   "cell_type": "code",
   "execution_count": null,
   "metadata": {},
   "outputs": [],
   "source": [
    "%load_ext sql"
   ]
  },
  {
   "cell_type": "code",
   "execution_count": null,
   "metadata": {},
   "outputs": [],
   "source": [
    "%%sql\n",
    "\n",
    "CREATE OR REPLACE VIEW sales_v\n",
    "AS\n",
    "SELECT 1 AS sale_id, 'Mastering Python' AS course_title, 10.99 AS sale_amount\n",
    "UNION ALL\n",
    "SELECT 2 AS sale_id, 'Mastering Redshift' AS course_title, 12.99 AS sale_amount\n",
    "UNION ALL\n",
    "SELECT 3 AS sale_id, 'Mastering EMR' AS course_title, 11.99 AS sale_amount\n",
    "UNION ALL\n",
    "SELECT 4 AS sale_id, 'Mastering EMR' AS course_title, 12.99 AS sale_amount\n",
    "UNION ALL\n",
    "SELECT 5 AS sale_id, 'Mastering Redshift' AS course_title, 10.99 AS sale_amount\n",
    "UNION ALL\n",
    "SELECT 6 AS sale_id, 'Mastering SQL' AS course_title, 11.99 AS sale_amount\n",
    "UNION ALL\n",
    "SELECT 7 AS sale_id, 'Mastering Redshift' AS course_title, 11.99 AS sale_amount\n",
    "UNION ALL\n",
    "SELECT 8 AS sale_id, 'Mastering EMR' AS course_title, 12.99 AS sale_amount\n",
    "UNION ALL\n",
    "SELECT 9 AS sale_id, 'Mastering Python' AS course_title, 10.99 AS sale_amount\n"
   ]
  },
  {
   "cell_type": "code",
   "execution_count": null,
   "metadata": {},
   "outputs": [],
   "source": [
    "%%sql\n",
    "\n",
    "SELECT * FROM sales_v"
   ]
  },
  {
   "cell_type": "code",
   "execution_count": null,
   "metadata": {},
   "outputs": [],
   "source": [
    "%%sql\n",
    "\n",
    "SELECT sv.*,\n",
    "    round(sum(sale_amount) OVER (PARTITION BY 1), 2) AS total_sale_amount\n",
    "FROM sales_v AS sv\n",
    "ORDER BY course_title, sale_id"
   ]
  },
  {
   "cell_type": "code",
   "execution_count": null,
   "metadata": {},
   "outputs": [],
   "source": [
    "%%sql\n",
    "\n",
    "SELECT sv.*,\n",
    "    round(sum(sale_amount) OVER (PARTITION BY course_title), 2) AS course_sale_amount\n",
    "FROM sales_v AS sv\n",
    "ORDER BY course_title, sale_id"
   ]
  },
  {
   "cell_type": "code",
   "execution_count": null,
   "metadata": {},
   "outputs": [],
   "source": []
  }
 ],
 "metadata": {
  "kernelspec": {
   "display_name": "Python 3.9.12 ('mr-venv': venv)",
   "language": "python",
   "name": "python3"
  },
  "language_info": {
   "codemirror_mode": {
    "name": "ipython",
    "version": 3
   },
   "file_extension": ".py",
   "mimetype": "text/x-python",
   "name": "python",
   "nbconvert_exporter": "python",
   "pygments_lexer": "ipython3",
   "version": "3.9.12"
  },
  "orig_nbformat": 4,
  "vscode": {
   "interpreter": {
    "hash": "717b0984b08fa49729458a2f744fd21cee18cedafc19a5cab745ce1cf3f48a98"
   }
  }
 },
 "nbformat": 4,
 "nbformat_minor": 2
}
