{
 "cells": [
  {
   "cell_type": "code",
   "execution_count": 8,
   "metadata": {},
   "outputs": [
    {
     "name": "stdout",
     "output_type": "stream",
     "text": [
      "2022-07-21 05:40:51          0 _SUCCESS\n",
      "2022-07-21 05:40:51    1418230 part-00000-cbee590f-73d2-47c9-b2ae-60fd25352e43-c000.json\n",
      "2022-07-21 05:40:51    1418855 part-00001-cbee590f-73d2-47c9-b2ae-60fd25352e43-c000.json\n",
      "2022-07-21 05:40:51    1448602 part-00002-cbee590f-73d2-47c9-b2ae-60fd25352e43-c000.json\n"
     ]
    }
   ],
   "source": [
    "!aws s3 ls \\\n",
    "    s3://airetail/retail_db_json/daily_product_revenue/"
   ]
  },
  {
   "cell_type": "code",
   "execution_count": 9,
   "metadata": {},
   "outputs": [],
   "source": [
    "import pandas as pd"
   ]
  },
  {
   "cell_type": "code",
   "execution_count": 10,
   "metadata": {},
   "outputs": [],
   "source": [
    "df = pd.read_json(\n",
    "    's3://airetail/retail_db_json/daily_product_revenue/part-00000-cbee590f-73d2-47c9-b2ae-60fd25352e43-c000.json',\n",
    "    lines=True\n",
    ")"
   ]
  },
  {
   "cell_type": "code",
   "execution_count": 11,
   "metadata": {},
   "outputs": [
    {
     "data": {
      "text/html": [
       "<div>\n",
       "<style scoped>\n",
       "    .dataframe tbody tr th:only-of-type {\n",
       "        vertical-align: middle;\n",
       "    }\n",
       "\n",
       "    .dataframe tbody tr th {\n",
       "        vertical-align: top;\n",
       "    }\n",
       "\n",
       "    .dataframe thead th {\n",
       "        text-align: right;\n",
       "    }\n",
       "</style>\n",
       "<table border=\"1\" class=\"dataframe\">\n",
       "  <thead>\n",
       "    <tr style=\"text-align: right;\">\n",
       "      <th></th>\n",
       "      <th>order_date</th>\n",
       "      <th>order_status</th>\n",
       "      <th>order_item_product_id</th>\n",
       "      <th>revenue</th>\n",
       "    </tr>\n",
       "  </thead>\n",
       "  <tbody>\n",
       "    <tr>\n",
       "      <th>0</th>\n",
       "      <td>2013-07-25 00:00:00.0</td>\n",
       "      <td>COMPLETE</td>\n",
       "      <td>191</td>\n",
       "      <td>3899.61</td>\n",
       "    </tr>\n",
       "    <tr>\n",
       "      <th>1</th>\n",
       "      <td>2013-07-25 00:00:00.0</td>\n",
       "      <td>COMPLETE</td>\n",
       "      <td>1004</td>\n",
       "      <td>3199.84</td>\n",
       "    </tr>\n",
       "    <tr>\n",
       "      <th>2</th>\n",
       "      <td>2013-07-25 00:00:00.0</td>\n",
       "      <td>COMPLETE</td>\n",
       "      <td>957</td>\n",
       "      <td>2999.80</td>\n",
       "    </tr>\n",
       "    <tr>\n",
       "      <th>3</th>\n",
       "      <td>2013-07-25 00:00:00.0</td>\n",
       "      <td>PENDING_PAYMENT</td>\n",
       "      <td>1073</td>\n",
       "      <td>2599.87</td>\n",
       "    </tr>\n",
       "    <tr>\n",
       "      <th>4</th>\n",
       "      <td>2013-07-25 00:00:00.0</td>\n",
       "      <td>CLOSED</td>\n",
       "      <td>1004</td>\n",
       "      <td>2399.88</td>\n",
       "    </tr>\n",
       "    <tr>\n",
       "      <th>...</th>\n",
       "      <td>...</td>\n",
       "      <td>...</td>\n",
       "      <td>...</td>\n",
       "      <td>...</td>\n",
       "    </tr>\n",
       "    <tr>\n",
       "      <th>12702</th>\n",
       "      <td>2013-11-21 00:00:00.0</td>\n",
       "      <td>ON_HOLD</td>\n",
       "      <td>666</td>\n",
       "      <td>109.99</td>\n",
       "    </tr>\n",
       "    <tr>\n",
       "      <th>12703</th>\n",
       "      <td>2013-11-21 00:00:00.0</td>\n",
       "      <td>SUSPECTED_FRAUD</td>\n",
       "      <td>677</td>\n",
       "      <td>99.99</td>\n",
       "    </tr>\n",
       "    <tr>\n",
       "      <th>12704</th>\n",
       "      <td>2013-11-21 00:00:00.0</td>\n",
       "      <td>PENDING_PAYMENT</td>\n",
       "      <td>886</td>\n",
       "      <td>99.96</td>\n",
       "    </tr>\n",
       "    <tr>\n",
       "      <th>12705</th>\n",
       "      <td>2013-11-21 00:00:00.0</td>\n",
       "      <td>COMPLETE</td>\n",
       "      <td>905</td>\n",
       "      <td>99.96</td>\n",
       "    </tr>\n",
       "    <tr>\n",
       "      <th>12706</th>\n",
       "      <td>2013-11-21 00:00:00.0</td>\n",
       "      <td>PROCESSING</td>\n",
       "      <td>905</td>\n",
       "      <td>99.96</td>\n",
       "    </tr>\n",
       "  </tbody>\n",
       "</table>\n",
       "<p>12707 rows × 4 columns</p>\n",
       "</div>"
      ],
      "text/plain": [
       "                  order_date     order_status  order_item_product_id  revenue\n",
       "0      2013-07-25 00:00:00.0         COMPLETE                    191  3899.61\n",
       "1      2013-07-25 00:00:00.0         COMPLETE                   1004  3199.84\n",
       "2      2013-07-25 00:00:00.0         COMPLETE                    957  2999.80\n",
       "3      2013-07-25 00:00:00.0  PENDING_PAYMENT                   1073  2599.87\n",
       "4      2013-07-25 00:00:00.0           CLOSED                   1004  2399.88\n",
       "...                      ...              ...                    ...      ...\n",
       "12702  2013-11-21 00:00:00.0          ON_HOLD                    666   109.99\n",
       "12703  2013-11-21 00:00:00.0  SUSPECTED_FRAUD                    677    99.99\n",
       "12704  2013-11-21 00:00:00.0  PENDING_PAYMENT                    886    99.96\n",
       "12705  2013-11-21 00:00:00.0         COMPLETE                    905    99.96\n",
       "12706  2013-11-21 00:00:00.0       PROCESSING                    905    99.96\n",
       "\n",
       "[12707 rows x 4 columns]"
      ]
     },
     "execution_count": 11,
     "metadata": {},
     "output_type": "execute_result"
    }
   ],
   "source": [
    "df"
   ]
  },
  {
   "cell_type": "markdown",
   "metadata": {},
   "source": [
    "Run these commands to setup database and tables in Redshift Serverless Namespace/Workgroup. \n",
    "\n",
    "```sql\n",
    "DROP DATABASE retail_dm;\n",
    "CREATE DATABASE retail_dm;\n",
    "CREATE USER retail_user WITH PASSWORD 'Itversity123';\n",
    "GRANT ALL ON DATABASE retail_dm TO retail_user;\n",
    "```"
   ]
  },
  {
   "cell_type": "markdown",
   "metadata": {},
   "source": [
    "Let us create **daily_product_revenue** table in **retail_dm** database. If you are using Redshift Query Editor to run commands to create tables make sure to choose appropriate database from the database drop down.\n",
    "\n",
    "```sql\n",
    "DROP TABLE IF EXISTS daily_product_revenue;\n",
    "\n",
    "CREATE TABLE daily_product_revenue (\n",
    "    order_date VARCHAR DISTKEY,\n",
    "    order_status VARCHAR,\n",
    "    order_item_product_id INT,\n",
    "    revenue FLOAT\n",
    ");\n",
    "\n",
    "ALTER TABLE daily_product_revenue\n",
    "    OWNER TO retail_user;\n",
    "```"
   ]
  }
 ],
 "metadata": {
  "kernelspec": {
   "display_name": "Python 3.9.12 ('mr-venv': venv)",
   "language": "python",
   "name": "python3"
  },
  "language_info": {
   "codemirror_mode": {
    "name": "ipython",
    "version": 3
   },
   "file_extension": ".py",
   "mimetype": "text/x-python",
   "name": "python",
   "nbconvert_exporter": "python",
   "pygments_lexer": "ipython3",
   "version": "3.9.12"
  },
  "orig_nbformat": 4,
  "vscode": {
   "interpreter": {
    "hash": "717b0984b08fa49729458a2f744fd21cee18cedafc19a5cab745ce1cf3f48a98"
   }
  }
 },
 "nbformat": 4,
 "nbformat_minor": 2
}
