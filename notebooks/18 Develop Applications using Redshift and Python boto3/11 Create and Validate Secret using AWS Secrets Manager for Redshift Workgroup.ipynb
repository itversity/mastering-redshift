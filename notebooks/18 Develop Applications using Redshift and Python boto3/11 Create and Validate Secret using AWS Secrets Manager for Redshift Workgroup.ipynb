{
 "cells": [
  {
   "cell_type": "code",
   "execution_count": null,
   "metadata": {},
   "outputs": [],
   "source": [
    "import boto3"
   ]
  },
  {
   "cell_type": "code",
   "execution_count": null,
   "metadata": {},
   "outputs": [],
   "source": [
    "rsd_client = boto3.client('redshift-data')"
   ]
  },
  {
   "cell_type": "code",
   "execution_count": null,
   "metadata": {},
   "outputs": [],
   "source": [
    "table_name = 'daily_product_revenue'"
   ]
  },
  {
   "cell_type": "code",
   "execution_count": null,
   "metadata": {},
   "outputs": [],
   "source": [
    "count_query = f'''SELECT count(*) FROM {table_name}'''"
   ]
  },
  {
   "cell_type": "code",
   "execution_count": null,
   "metadata": {},
   "outputs": [],
   "source": [
    "count_query_id = rsd_client.execute_statement(\n",
    "    WorkgroupName='retail-wg',\n",
    "    Database='retail_dm',\n",
    "    Sql=count_query\n",
    ")['Id']"
   ]
  },
  {
   "cell_type": "code",
   "execution_count": null,
   "metadata": {},
   "outputs": [],
   "source": [
    "rsd_client.describe_statement(Id=count_query_id)"
   ]
  },
  {
   "cell_type": "code",
   "execution_count": null,
   "metadata": {},
   "outputs": [],
   "source": [
    "rsd_client.execute_statement?"
   ]
  },
  {
   "cell_type": "code",
   "execution_count": null,
   "metadata": {},
   "outputs": [],
   "source": [
    "secret_arn = 'arn:aws:secretsmanager:us-east-1:269066542444:secret:demo/retail/redshiftwg-2ILtDP'"
   ]
  },
  {
   "cell_type": "code",
   "execution_count": null,
   "metadata": {},
   "outputs": [],
   "source": [
    "count_query_id = rsd_client.execute_statement(\n",
    "    WorkgroupName='retail-wg',\n",
    "    Database='retail_dm',\n",
    "    SecretArn=secret_arn,\n",
    "    Sql=count_query\n",
    ")['Id']"
   ]
  },
  {
   "cell_type": "code",
   "execution_count": null,
   "metadata": {},
   "outputs": [],
   "source": [
    "rsd_client.describe_statement(Id=count_query_id)"
   ]
  },
  {
   "cell_type": "code",
   "execution_count": null,
   "metadata": {},
   "outputs": [],
   "source": [
    "rsd_client.get_statement_result(Id=count_query_id)['Records']"
   ]
  },
  {
   "cell_type": "code",
   "execution_count": null,
   "metadata": {},
   "outputs": [],
   "source": []
  }
 ],
 "metadata": {
  "kernelspec": {
   "display_name": "Python 3.9.12 ('mr-venv': venv)",
   "language": "python",
   "name": "python3"
  },
  "language_info": {
   "codemirror_mode": {
    "name": "ipython",
    "version": 3
   },
   "file_extension": ".py",
   "mimetype": "text/x-python",
   "name": "python",
   "nbconvert_exporter": "python",
   "pygments_lexer": "ipython3",
   "version": "3.9.12"
  },
  "orig_nbformat": 4,
  "vscode": {
   "interpreter": {
    "hash": "717b0984b08fa49729458a2f744fd21cee18cedafc19a5cab745ce1cf3f48a98"
   }
  }
 },
 "nbformat": 4,
 "nbformat_minor": 2
}
