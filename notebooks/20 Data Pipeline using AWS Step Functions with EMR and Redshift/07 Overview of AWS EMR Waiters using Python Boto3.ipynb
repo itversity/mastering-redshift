{
 "cells": [
  {
   "cell_type": "code",
   "execution_count": null,
   "metadata": {},
   "outputs": [],
   "source": [
    "import boto3"
   ]
  },
  {
   "cell_type": "code",
   "execution_count": null,
   "metadata": {},
   "outputs": [],
   "source": [
    "emr_client = boto3.client('emr')"
   ]
  },
  {
   "cell_type": "code",
   "execution_count": null,
   "metadata": {},
   "outputs": [],
   "source": [
    "emr_client.list_clusters(ClusterStates=['STARTING', 'RUNNING', 'WAITING'])"
   ]
  },
  {
   "cell_type": "code",
   "execution_count": null,
   "metadata": {},
   "outputs": [],
   "source": [
    "step_details = emr_client.add_job_flow_steps(\n",
    "    JobFlowId='j-Y4YGUCT4IH73',\n",
    "    Steps=[\n",
    "        {\n",
    "            'Name': 'Compute Daily Revenue using Spark SQL',\n",
    "            'HadoopJarStep': {\n",
    "                'Jar': 'command-runner.jar',\n",
    "                'Args': [\n",
    "                    'spark-sql',\n",
    "                    '-d',\n",
    "                    's3.bucket=airetail',\n",
    "                    '-f',\n",
    "                    's3://airetail/scripts/08_compute_daily_product_revenue_args.sql'\n",
    "                ]\n",
    "            }\n",
    "        }\n",
    "    ]\n",
    ")"
   ]
  },
  {
   "cell_type": "code",
   "execution_count": null,
   "metadata": {},
   "outputs": [],
   "source": [
    "step_details['StepIds'][0]"
   ]
  },
  {
   "cell_type": "code",
   "execution_count": null,
   "metadata": {},
   "outputs": [],
   "source": [
    "step_waiter = emr_client.get_waiter(\"step_complete\")\n",
    "\n",
    "print(f'''Waiting for job step ({step_details['StepIds'][0]}) to complete''')\n",
    "step_waiter.wait(\n",
    "    ClusterId='j-Y4YGUCT4IH73',\n",
    "    StepId=step_details['StepIds'][0],\n",
    "    WaiterConfig={\n",
    "        \"Delay\": 30,\n",
    "        \"MaxAttempts\": 10\n",
    "    }\n",
    ")\n",
    "\n",
    "print(f'''Step ({step_details['StepIds'][0]}) is completed''')"
   ]
  },
  {
   "cell_type": "code",
   "execution_count": null,
   "metadata": {},
   "outputs": [],
   "source": []
  }
 ],
 "metadata": {
  "kernelspec": {
   "display_name": "Python 3.9.12 ('mr-venv': venv)",
   "language": "python",
   "name": "python3"
  },
  "language_info": {
   "codemirror_mode": {
    "name": "ipython",
    "version": 3
   },
   "file_extension": ".py",
   "mimetype": "text/x-python",
   "name": "python",
   "nbconvert_exporter": "python",
   "pygments_lexer": "ipython3",
   "version": "3.9.12"
  },
  "orig_nbformat": 4,
  "vscode": {
   "interpreter": {
    "hash": "717b0984b08fa49729458a2f744fd21cee18cedafc19a5cab745ce1cf3f48a98"
   }
  }
 },
 "nbformat": 4,
 "nbformat_minor": 2
}
