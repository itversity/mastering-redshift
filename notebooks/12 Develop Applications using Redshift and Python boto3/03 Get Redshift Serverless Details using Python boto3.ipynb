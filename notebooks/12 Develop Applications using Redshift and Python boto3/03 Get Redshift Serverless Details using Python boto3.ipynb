{
 "cells": [
  {
   "cell_type": "code",
   "execution_count": 1,
   "metadata": {},
   "outputs": [],
   "source": [
    "import boto3"
   ]
  },
  {
   "cell_type": "code",
   "execution_count": 2,
   "metadata": {},
   "outputs": [],
   "source": [
    "rss_client = boto3.client('redshift-serverless')"
   ]
  },
  {
   "cell_type": "code",
   "execution_count": 3,
   "metadata": {},
   "outputs": [
    {
     "data": {
      "text/plain": [
       "{'workgroups': [{'baseCapacity': 32,\n",
       "   'configParameters': [{'parameterKey': 'datestyle',\n",
       "     'parameterValue': 'ISO, MDY'},\n",
       "    {'parameterKey': 'enable_user_activity_logging', 'parameterValue': 'true'},\n",
       "    {'parameterKey': 'query_group', 'parameterValue': 'default'},\n",
       "    {'parameterKey': 'search_path', 'parameterValue': '$user, public'},\n",
       "    {'parameterKey': 'max_query_execution_time', 'parameterValue': '14400'}],\n",
       "   'creationDate': datetime.datetime(2022, 7, 12, 23, 12, 32, 308000, tzinfo=tzutc()),\n",
       "   'endpoint': {'address': 'aigithub-wg.269066542444.us-east-1.redshift-serverless.amazonaws.com',\n",
       "    'port': 5439,\n",
       "    'vpcEndpoints': [{'networkInterfaces': [{'availabilityZone': 'us-east-1f',\n",
       "        'networkInterfaceId': 'eni-0d822aff391c210c7',\n",
       "        'privateIpAddress': '172.31.72.229',\n",
       "        'subnetId': 'subnet-0daee604c6a633b52'}],\n",
       "      'vpcEndpointId': 'vpce-0210c70b5cdc33b09',\n",
       "      'vpcId': 'vpc-01d0255ee89e0d469'}]},\n",
       "   'enhancedVpcRouting': False,\n",
       "   'namespaceName': 'aigithub-ns',\n",
       "   'publiclyAccessible': False,\n",
       "   'securityGroupIds': ['sg-0ac25b7c135ae5dfa'],\n",
       "   'status': 'AVAILABLE',\n",
       "   'subnetIds': ['subnet-0daee604c6a633b52',\n",
       "    'subnet-0a7b38c9980145f68',\n",
       "    'subnet-067a801d459e526bc',\n",
       "    'subnet-063c690d743633558',\n",
       "    'subnet-0452ade8510f43c16',\n",
       "    'subnet-060ecc4195ffbfadb'],\n",
       "   'workgroupArn': 'arn:aws:redshift-serverless:us-east-1:269066542444:workgroup/be4610a6-8293-44df-93c7-ed6ca2a08931',\n",
       "   'workgroupId': 'be4610a6-8293-44df-93c7-ed6ca2a08931',\n",
       "   'workgroupName': 'aigithub-wg'},\n",
       "  {'baseCapacity': 128,\n",
       "   'configParameters': [{'parameterKey': 'datestyle',\n",
       "     'parameterValue': 'ISO, MDY'},\n",
       "    {'parameterKey': 'enable_user_activity_logging', 'parameterValue': 'true'},\n",
       "    {'parameterKey': 'query_group', 'parameterValue': 'default'},\n",
       "    {'parameterKey': 'search_path', 'parameterValue': '$user, public'},\n",
       "    {'parameterKey': 'max_query_execution_time', 'parameterValue': '14400'}],\n",
       "   'creationDate': datetime.datetime(2022, 7, 8, 3, 41, 10, 414000, tzinfo=tzutc()),\n",
       "   'endpoint': {'address': 'retail-wg.269066542444.us-east-1.redshift-serverless.amazonaws.com',\n",
       "    'port': 5439,\n",
       "    'vpcEndpoints': [{'networkInterfaces': [{'availabilityZone': 'us-east-1a',\n",
       "        'networkInterfaceId': 'eni-06a5fb48c58b92eee',\n",
       "        'privateIpAddress': '172.31.82.94',\n",
       "        'subnetId': 'subnet-0a7b38c9980145f68'}],\n",
       "      'vpcEndpointId': 'vpce-044134191ad7f0f8f',\n",
       "      'vpcId': 'vpc-01d0255ee89e0d469'}]},\n",
       "   'enhancedVpcRouting': False,\n",
       "   'namespaceName': 'retail-ns',\n",
       "   'publiclyAccessible': False,\n",
       "   'securityGroupIds': ['sg-0ac25b7c135ae5dfa'],\n",
       "   'status': 'AVAILABLE',\n",
       "   'subnetIds': ['subnet-0daee604c6a633b52',\n",
       "    'subnet-0a7b38c9980145f68',\n",
       "    'subnet-067a801d459e526bc',\n",
       "    'subnet-063c690d743633558',\n",
       "    'subnet-0452ade8510f43c16',\n",
       "    'subnet-060ecc4195ffbfadb'],\n",
       "   'workgroupArn': 'arn:aws:redshift-serverless:us-east-1:269066542444:workgroup/164db594-3c3a-4003-8ab1-96db486f28be',\n",
       "   'workgroupId': '164db594-3c3a-4003-8ab1-96db486f28be',\n",
       "   'workgroupName': 'retail-wg'}],\n",
       " 'ResponseMetadata': {'RequestId': '54fd6dc7-bf61-436d-bb9d-ee409c955b5d',\n",
       "  'HTTPStatusCode': 200,\n",
       "  'HTTPHeaders': {'x-amzn-requestid': '54fd6dc7-bf61-436d-bb9d-ee409c955b5d',\n",
       "   'date': 'Mon, 18 Jul 2022 03:59:28 GMT',\n",
       "   'content-type': 'application/x-amz-json-1.1',\n",
       "   'content-length': '2606'},\n",
       "  'RetryAttempts': 0}}"
      ]
     },
     "execution_count": 3,
     "metadata": {},
     "output_type": "execute_result"
    }
   ],
   "source": [
    "rss_client.list_workgroups()"
   ]
  },
  {
   "cell_type": "code",
   "execution_count": 5,
   "metadata": {},
   "outputs": [
    {
     "name": "stdout",
     "output_type": "stream",
     "text": [
      "aigithub-wg.269066542444.us-east-1.redshift-serverless.amazonaws.com\n",
      "retail-wg.269066542444.us-east-1.redshift-serverless.amazonaws.com\n"
     ]
    }
   ],
   "source": [
    "for workgroup in rss_client.list_workgroups()['workgroups']:\n",
    "    print(workgroup['endpoint']['address'])"
   ]
  },
  {
   "cell_type": "code",
   "execution_count": 6,
   "metadata": {},
   "outputs": [
    {
     "data": {
      "text/plain": [
       "{'workgroup': {'baseCapacity': 128,\n",
       "  'configParameters': [{'parameterKey': 'datestyle',\n",
       "    'parameterValue': 'ISO, MDY'},\n",
       "   {'parameterKey': 'enable_user_activity_logging', 'parameterValue': 'true'},\n",
       "   {'parameterKey': 'query_group', 'parameterValue': 'default'},\n",
       "   {'parameterKey': 'search_path', 'parameterValue': '$user, public'},\n",
       "   {'parameterKey': 'max_query_execution_time', 'parameterValue': '14400'}],\n",
       "  'creationDate': datetime.datetime(2022, 7, 8, 3, 41, 10, 414000, tzinfo=tzutc()),\n",
       "  'endpoint': {'address': 'retail-wg.269066542444.us-east-1.redshift-serverless.amazonaws.com',\n",
       "   'port': 5439,\n",
       "   'vpcEndpoints': [{'networkInterfaces': [{'availabilityZone': 'us-east-1a',\n",
       "       'networkInterfaceId': 'eni-06a5fb48c58b92eee',\n",
       "       'privateIpAddress': '172.31.82.94',\n",
       "       'subnetId': 'subnet-0a7b38c9980145f68'}],\n",
       "     'vpcEndpointId': 'vpce-044134191ad7f0f8f',\n",
       "     'vpcId': 'vpc-01d0255ee89e0d469'}]},\n",
       "  'enhancedVpcRouting': False,\n",
       "  'namespaceName': 'retail-ns',\n",
       "  'publiclyAccessible': False,\n",
       "  'securityGroupIds': ['sg-0ac25b7c135ae5dfa'],\n",
       "  'status': 'AVAILABLE',\n",
       "  'subnetIds': ['subnet-0daee604c6a633b52',\n",
       "   'subnet-0a7b38c9980145f68',\n",
       "   'subnet-067a801d459e526bc',\n",
       "   'subnet-063c690d743633558',\n",
       "   'subnet-0452ade8510f43c16',\n",
       "   'subnet-060ecc4195ffbfadb'],\n",
       "  'workgroupArn': 'arn:aws:redshift-serverless:us-east-1:269066542444:workgroup/164db594-3c3a-4003-8ab1-96db486f28be',\n",
       "  'workgroupId': '164db594-3c3a-4003-8ab1-96db486f28be',\n",
       "  'workgroupName': 'retail-wg'},\n",
       " 'ResponseMetadata': {'RequestId': 'f7ccebe9-4d7b-45f4-bb9b-f6e84faecdcd',\n",
       "  'HTTPStatusCode': 200,\n",
       "  'HTTPHeaders': {'x-amzn-requestid': 'f7ccebe9-4d7b-45f4-bb9b-f6e84faecdcd',\n",
       "   'date': 'Mon, 18 Jul 2022 04:01:37 GMT',\n",
       "   'content-type': 'application/x-amz-json-1.1',\n",
       "   'content-length': '1305'},\n",
       "  'RetryAttempts': 0}}"
      ]
     },
     "execution_count": 6,
     "metadata": {},
     "output_type": "execute_result"
    }
   ],
   "source": [
    "rss_client.get_workgroup(workgroupName='retail-wg')"
   ]
  },
  {
   "cell_type": "code",
   "execution_count": 7,
   "metadata": {},
   "outputs": [
    {
     "data": {
      "text/plain": [
       "{'namespaces': [{'adminUsername': 'admin',\n",
       "   'creationDate': datetime.datetime(2022, 7, 12, 23, 12, 31, 564000, tzinfo=tzutc()),\n",
       "   'dbName': 'dev',\n",
       "   'defaultIamRoleArn': 'arn:aws:iam::269066542444:role/service-role/AmazonRedshift-CommandsAccessRole-20220625T110940',\n",
       "   'iamRoles': ['IamRole(applyStatus=in-sync, iamRoleArn=arn:aws:iam::269066542444:role/service-role/AmazonRedshift-CommandsAccessRole-20220625T110940)'],\n",
       "   'kmsKeyId': 'AWS_OWNED_KMS_KEY',\n",
       "   'logExports': [],\n",
       "   'namespaceArn': 'arn:aws:redshift-serverless:us-east-1:269066542444:namespace/ba785234-4c73-46f4-8c60-cb16d0c38fa0',\n",
       "   'namespaceId': 'ba785234-4c73-46f4-8c60-cb16d0c38fa0',\n",
       "   'namespaceName': 'aigithub-ns',\n",
       "   'status': 'AVAILABLE'},\n",
       "  {'adminUsername': 'admin',\n",
       "   'creationDate': datetime.datetime(2022, 7, 8, 3, 41, 9, 539000, tzinfo=tzutc()),\n",
       "   'dbName': 'dev',\n",
       "   'defaultIamRoleArn': 'arn:aws:iam::269066542444:role/service-role/AmazonRedshift-CommandsAccessRole-20220625T110940',\n",
       "   'iamRoles': ['IamRole(applyStatus=in-sync, iamRoleArn=arn:aws:iam::269066542444:role/AIRedshiftRetailSpectrum)',\n",
       "    'IamRole(applyStatus=in-sync, iamRoleArn=arn:aws:iam::269066542444:role/service-role/AmazonRedshift-CommandsAccessRole-20220625T110940)'],\n",
       "   'kmsKeyId': 'AWS_OWNED_KMS_KEY',\n",
       "   'logExports': [],\n",
       "   'namespaceArn': 'arn:aws:redshift-serverless:us-east-1:269066542444:namespace/7170a0ce-69ec-4377-98ec-479197b71b5d',\n",
       "   'namespaceId': '7170a0ce-69ec-4377-98ec-479197b71b5d',\n",
       "   'namespaceName': 'retail-ns',\n",
       "   'status': 'AVAILABLE'}],\n",
       " 'ResponseMetadata': {'RequestId': '7ee1a5df-127b-44f1-bb03-60f6984c647e',\n",
       "  'HTTPStatusCode': 200,\n",
       "  'HTTPHeaders': {'x-amzn-requestid': '7ee1a5df-127b-44f1-bb03-60f6984c647e',\n",
       "   'date': 'Mon, 18 Jul 2022 04:01:55 GMT',\n",
       "   'content-type': 'application/x-amz-json-1.1',\n",
       "   'content-length': '1343'},\n",
       "  'RetryAttempts': 0}}"
      ]
     },
     "execution_count": 7,
     "metadata": {},
     "output_type": "execute_result"
    }
   ],
   "source": [
    "rss_client.list_namespaces()"
   ]
  },
  {
   "cell_type": "code",
   "execution_count": 8,
   "metadata": {},
   "outputs": [
    {
     "name": "stdout",
     "output_type": "stream",
     "text": [
      "aigithub-ns\n",
      "retail-ns\n"
     ]
    }
   ],
   "source": [
    "for namespace in rss_client.list_namespaces()['namespaces']:\n",
    "    print(namespace['namespaceName'])"
   ]
  },
  {
   "cell_type": "code",
   "execution_count": null,
   "metadata": {},
   "outputs": [],
   "source": []
  }
 ],
 "metadata": {
  "kernelspec": {
   "display_name": "Python 3.9.12 ('mr-venv': venv)",
   "language": "python",
   "name": "python3"
  },
  "language_info": {
   "codemirror_mode": {
    "name": "ipython",
    "version": 3
   },
   "file_extension": ".py",
   "mimetype": "text/x-python",
   "name": "python",
   "nbconvert_exporter": "python",
   "pygments_lexer": "ipython3",
   "version": "3.9.12"
  },
  "orig_nbformat": 4,
  "vscode": {
   "interpreter": {
    "hash": "717b0984b08fa49729458a2f744fd21cee18cedafc19a5cab745ce1cf3f48a98"
   }
  }
 },
 "nbformat": 4,
 "nbformat_minor": 2
}
