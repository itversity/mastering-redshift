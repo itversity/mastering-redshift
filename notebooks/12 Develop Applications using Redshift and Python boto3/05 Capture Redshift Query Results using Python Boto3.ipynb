{
 "cells": [
  {
   "cell_type": "code",
   "execution_count": 14,
   "metadata": {},
   "outputs": [],
   "source": [
    "import boto3\n",
    "rsd_client = boto3.client('redshift-data')"
   ]
  },
  {
   "cell_type": "code",
   "execution_count": 15,
   "metadata": {},
   "outputs": [],
   "source": [
    "query_id = rsd_client.execute_statement(\n",
    "    WorkgroupName='retail-wg',\n",
    "    Database='retail_dm',\n",
    "    Sql='SELECT current_date'\n",
    ")['Id']"
   ]
  },
  {
   "cell_type": "code",
   "execution_count": 16,
   "metadata": {},
   "outputs": [
    {
     "data": {
      "text/plain": [
       "{'CreatedAt': datetime.datetime(2022, 7, 18, 9, 49, 8, 825000, tzinfo=tzlocal()),\n",
       " 'Duration': 5614163,\n",
       " 'HasResultSet': True,\n",
       " 'Id': 'b8450bbe-31f8-41d2-b81e-967f3ad7d375',\n",
       " 'QueryString': 'SELECT current_date',\n",
       " 'RedshiftPid': 1073940587,\n",
       " 'RedshiftQueryId': 0,\n",
       " 'ResultRows': 1,\n",
       " 'ResultSize': 10,\n",
       " 'Status': 'FINISHED',\n",
       " 'UpdatedAt': datetime.datetime(2022, 7, 18, 9, 49, 9, 506000, tzinfo=tzlocal()),\n",
       " 'WorkgroupName': 'retail-wg',\n",
       " 'ResponseMetadata': {'RequestId': '4c8d3eaa-68ba-420d-a020-046ea6c39f48',\n",
       "  'HTTPStatusCode': 200,\n",
       "  'HTTPHeaders': {'x-amzn-requestid': '4c8d3eaa-68ba-420d-a020-046ea6c39f48',\n",
       "   'content-type': 'application/x-amz-json-1.1',\n",
       "   'content-length': '302',\n",
       "   'date': 'Mon, 18 Jul 2022 04:19:10 GMT'},\n",
       "  'RetryAttempts': 0}}"
      ]
     },
     "execution_count": 16,
     "metadata": {},
     "output_type": "execute_result"
    }
   ],
   "source": [
    "rsd_client.describe_statement(Id=query_id)"
   ]
  },
  {
   "cell_type": "code",
   "execution_count": 17,
   "metadata": {},
   "outputs": [
    {
     "data": {
      "text/plain": [
       "{'ColumnMetadata': [{'isCaseSensitive': False,\n",
       "   'isCurrency': False,\n",
       "   'isSigned': False,\n",
       "   'label': 'date',\n",
       "   'length': 0,\n",
       "   'name': 'date',\n",
       "   'nullable': 1,\n",
       "   'precision': 13,\n",
       "   'scale': 0,\n",
       "   'schemaName': '',\n",
       "   'tableName': '',\n",
       "   'typeName': 'date'}],\n",
       " 'Records': [[{'stringValue': '2022-07-18'}]],\n",
       " 'TotalNumRows': 1,\n",
       " 'ResponseMetadata': {'RequestId': 'e8fc9453-511f-43b4-ac05-366215d934a4',\n",
       "  'HTTPStatusCode': 200,\n",
       "  'HTTPHeaders': {'x-amzn-requestid': 'e8fc9453-511f-43b4-ac05-366215d934a4',\n",
       "   'content-type': 'application/x-amz-json-1.1',\n",
       "   'content-length': '269',\n",
       "   'date': 'Mon, 18 Jul 2022 04:19:12 GMT'},\n",
       "  'RetryAttempts': 0}}"
      ]
     },
     "execution_count": 17,
     "metadata": {},
     "output_type": "execute_result"
    }
   ],
   "source": [
    "rsd_client.get_statement_result(Id=query_id)"
   ]
  },
  {
   "cell_type": "code",
   "execution_count": 18,
   "metadata": {},
   "outputs": [
    {
     "data": {
      "text/plain": [
       "[[{'stringValue': '2022-07-18'}]]"
      ]
     },
     "execution_count": 18,
     "metadata": {},
     "output_type": "execute_result"
    }
   ],
   "source": [
    "rsd_client.get_statement_result(Id=query_id)['Records']"
   ]
  },
  {
   "cell_type": "code",
   "execution_count": 36,
   "metadata": {},
   "outputs": [],
   "source": [
    "list_tables_query = '''\n",
    "    SELECT table_name FROM information_schema.tables\n",
    "    LIMIT 10\n",
    "'''"
   ]
  },
  {
   "cell_type": "code",
   "execution_count": 37,
   "metadata": {},
   "outputs": [],
   "source": [
    "list_tables_query_id = rsd_client.execute_statement(\n",
    "    WorkgroupName='retail-wg',\n",
    "    Database='retail_dm',\n",
    "    Sql=list_tables_query\n",
    ")['Id']"
   ]
  },
  {
   "cell_type": "code",
   "execution_count": 38,
   "metadata": {},
   "outputs": [
    {
     "data": {
      "text/plain": [
       "{'ColumnMetadata': [{'isCaseSensitive': True,\n",
       "   'isCurrency': False,\n",
       "   'isSigned': False,\n",
       "   'label': 'table_name',\n",
       "   'length': 0,\n",
       "   'name': 'table_name',\n",
       "   'nullable': 1,\n",
       "   'precision': 65535,\n",
       "   'scale': 0,\n",
       "   'schemaName': 'information_schema',\n",
       "   'tableName': 'tables',\n",
       "   'typeName': 'varchar'}],\n",
       " 'Records': [[{'stringValue': 'pg_attribute_info'}],\n",
       "  [{'stringValue': 'sys_external_query_detail'}],\n",
       "  [{'stringValue': 'sys_load_history'}],\n",
       "  [{'stringValue': 'sys_load_error_detail'}],\n",
       "  [{'stringValue': 'sys_unload_history'}],\n",
       "  [{'stringValue': 'sys_serverless_usage'}],\n",
       "  [{'stringValue': 'sys_query_history'}],\n",
       "  [{'stringValue': 'pg_user_info'}],\n",
       "  [{'stringValue': 'pg_database_info'}],\n",
       "  [{'stringValue': 'pg_class_info'}]],\n",
       " 'TotalNumRows': 10,\n",
       " 'ResponseMetadata': {'RequestId': 'a33e7008-e5fe-40c5-a9e4-7b58d3a663cd',\n",
       "  'HTTPStatusCode': 200,\n",
       "  'HTTPHeaders': {'x-amzn-requestid': 'a33e7008-e5fe-40c5-a9e4-7b58d3a663cd',\n",
       "   'content-type': 'application/x-amz-json-1.1',\n",
       "   'content-length': '665',\n",
       "   'date': 'Mon, 18 Jul 2022 04:23:15 GMT'},\n",
       "  'RetryAttempts': 0}}"
      ]
     },
     "execution_count": 38,
     "metadata": {},
     "output_type": "execute_result"
    }
   ],
   "source": [
    "rsd_client.get_statement_result(Id=list_tables_query_id)"
   ]
  },
  {
   "cell_type": "code",
   "execution_count": 39,
   "metadata": {},
   "outputs": [],
   "source": [
    "records = rsd_client.get_statement_result(Id=list_tables_query_id)['Records']"
   ]
  },
  {
   "cell_type": "code",
   "execution_count": 40,
   "metadata": {},
   "outputs": [
    {
     "name": "stdout",
     "output_type": "stream",
     "text": [
      "[{'stringValue': 'pg_attribute_info'}]\n",
      "[{'stringValue': 'sys_external_query_detail'}]\n",
      "[{'stringValue': 'sys_load_history'}]\n",
      "[{'stringValue': 'sys_load_error_detail'}]\n",
      "[{'stringValue': 'sys_unload_history'}]\n",
      "[{'stringValue': 'sys_serverless_usage'}]\n",
      "[{'stringValue': 'sys_query_history'}]\n",
      "[{'stringValue': 'pg_user_info'}]\n",
      "[{'stringValue': 'pg_database_info'}]\n",
      "[{'stringValue': 'pg_class_info'}]\n"
     ]
    }
   ],
   "source": [
    "for record in records:\n",
    "    print(record)"
   ]
  },
  {
   "cell_type": "code",
   "execution_count": null,
   "metadata": {},
   "outputs": [],
   "source": []
  }
 ],
 "metadata": {
  "kernelspec": {
   "display_name": "Python 3.9.12 ('mr-venv': venv)",
   "language": "python",
   "name": "python3"
  },
  "language_info": {
   "codemirror_mode": {
    "name": "ipython",
    "version": 3
   },
   "file_extension": ".py",
   "mimetype": "text/x-python",
   "name": "python",
   "nbconvert_exporter": "python",
   "pygments_lexer": "ipython3",
   "version": "3.9.12"
  },
  "orig_nbformat": 4,
  "vscode": {
   "interpreter": {
    "hash": "717b0984b08fa49729458a2f744fd21cee18cedafc19a5cab745ce1cf3f48a98"
   }
  }
 },
 "nbformat": 4,
 "nbformat_minor": 2
}
