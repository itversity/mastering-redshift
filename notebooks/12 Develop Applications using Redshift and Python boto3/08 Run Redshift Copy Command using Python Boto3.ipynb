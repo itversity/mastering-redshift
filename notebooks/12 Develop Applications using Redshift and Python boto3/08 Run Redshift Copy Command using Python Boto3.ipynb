{
 "cells": [
  {
   "cell_type": "markdown",
   "metadata": {},
   "source": [
    "We need to make sure the IAM Role associated with the Redshift Serverless Namespace have permissions on relevant AWS s3 Bucket where we have JSON files related to **orders** and **order_items**. Alternatively, we can add a new role with relevant permissions on s3 Bucket and attach to the Redshift Serverless Namespace."
   ]
  },
  {
   "cell_type": "code",
   "execution_count": 3,
   "metadata": {},
   "outputs": [],
   "source": [
    "import boto3"
   ]
  },
  {
   "cell_type": "code",
   "execution_count": 4,
   "metadata": {},
   "outputs": [],
   "source": [
    "rsd_client = boto3.client('redshift-data')"
   ]
  },
  {
   "cell_type": "code",
   "execution_count": 20,
   "metadata": {},
   "outputs": [],
   "source": [
    "rs_copy_command = '''\n",
    "    COPY orders FROM 's3://airetail/retail_db_json/orders' \n",
    "    IAM_ROLE 'arn:aws:iam::269066542444:role/AIRedshiftRetailSpectrum'\n",
    "    JSON AS 'auto'\n",
    "'''"
   ]
  },
  {
   "cell_type": "code",
   "execution_count": 21,
   "metadata": {},
   "outputs": [],
   "source": [
    "rs_copy_command_id = rsd_client.execute_statement(\n",
    "    WorkgroupName='retail-wg',\n",
    "    Database='retail_db',\n",
    "    Sql=rs_copy_command\n",
    ")['Id']"
   ]
  },
  {
   "cell_type": "code",
   "execution_count": 23,
   "metadata": {},
   "outputs": [
    {
     "data": {
      "text/plain": [
       "{'CreatedAt': datetime.datetime(2022, 7, 18, 16, 4, 44, 934000, tzinfo=tzlocal()),\n",
       " 'Duration': 6758341768,\n",
       " 'HasResultSet': False,\n",
       " 'Id': 'f32c76f4-7fe5-42aa-8558-e5e5bb369a09',\n",
       " 'QueryString': \"\\n    COPY orders FROM 's3://airetail/retail_db_json/orders' \\n    IAM_ROLE ''\\n    JSON AS 'auto'\\n\",\n",
       " 'RedshiftPid': 1073776174,\n",
       " 'RedshiftQueryId': 30661,\n",
       " 'ResultRows': 0,\n",
       " 'ResultSize': 0,\n",
       " 'Status': 'FINISHED',\n",
       " 'UpdatedAt': datetime.datetime(2022, 7, 18, 16, 4, 52, 241000, tzinfo=tzlocal()),\n",
       " 'WorkgroupName': 'retail-wg',\n",
       " 'ResponseMetadata': {'RequestId': '259a4551-752a-4ee1-ab3c-bb7886453754',\n",
       "  'HTTPStatusCode': 200,\n",
       "  'HTTPHeaders': {'x-amzn-requestid': '259a4551-752a-4ee1-ab3c-bb7886453754',\n",
       "   'content-type': 'application/x-amz-json-1.1',\n",
       "   'content-length': '390',\n",
       "   'date': 'Mon, 18 Jul 2022 10:34:54 GMT'},\n",
       "  'RetryAttempts': 0}}"
      ]
     },
     "execution_count": 23,
     "metadata": {},
     "output_type": "execute_result"
    }
   ],
   "source": [
    "rsd_client.describe_statement(Id=rs_copy_command_id)"
   ]
  },
  {
   "cell_type": "code",
   "execution_count": 24,
   "metadata": {},
   "outputs": [],
   "source": [
    "order_count_query = '''SELECT count(*) FROM orders'''"
   ]
  },
  {
   "cell_type": "code",
   "execution_count": 25,
   "metadata": {},
   "outputs": [],
   "source": [
    "order_count_query_id = rsd_client.execute_statement(\n",
    "    WorkgroupName='retail-wg',\n",
    "    Database='retail_db',\n",
    "    Sql=order_count_query\n",
    ")['Id']"
   ]
  },
  {
   "cell_type": "code",
   "execution_count": 27,
   "metadata": {},
   "outputs": [
    {
     "data": {
      "text/plain": [
       "[[{'longValue': 68883}]]"
      ]
     },
     "execution_count": 27,
     "metadata": {},
     "output_type": "execute_result"
    }
   ],
   "source": [
    "rsd_client.get_statement_result(Id=order_count_query_id)['Records']"
   ]
  },
  {
   "cell_type": "code",
   "execution_count": null,
   "metadata": {},
   "outputs": [],
   "source": []
  }
 ],
 "metadata": {
  "kernelspec": {
   "display_name": "Python 3.9.12 ('mr-venv': venv)",
   "language": "python",
   "name": "python3"
  },
  "language_info": {
   "codemirror_mode": {
    "name": "ipython",
    "version": 3
   },
   "file_extension": ".py",
   "mimetype": "text/x-python",
   "name": "python",
   "nbconvert_exporter": "python",
   "pygments_lexer": "ipython3",
   "version": "3.9.12"
  },
  "orig_nbformat": 4,
  "vscode": {
   "interpreter": {
    "hash": "717b0984b08fa49729458a2f744fd21cee18cedafc19a5cab745ce1cf3f48a98"
   }
  }
 },
 "nbformat": 4,
 "nbformat_minor": 2
}
