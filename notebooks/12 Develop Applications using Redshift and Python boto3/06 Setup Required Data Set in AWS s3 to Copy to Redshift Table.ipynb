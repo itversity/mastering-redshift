{
 "cells": [
  {
   "cell_type": "code",
   "execution_count": 4,
   "metadata": {},
   "outputs": [
    {
     "name": "stdout",
     "output_type": "stream",
     "text": [
      "upload: data/retail_db_json/departments/part-r-00000-3db7cfae-3ad2-4fc7-88ff-afe0ec709f49 to s3://airetail/retail_db_json/departments/part-r-00000-3db7cfae-3ad2-4fc7-88ff-afe0ec709f49\n",
      "upload: data/retail_db_json/create_db_tables_pg.sql to s3://airetail/retail_db_json/create_db_tables_pg.sql\n",
      "upload: data/retail_db_json/categories/part-r-00000-ce1d8208-178d-48d3-bfb2-1a97d9c05094 to s3://airetail/retail_db_json/categories/part-r-00000-ce1d8208-178d-48d3-bfb2-1a97d9c05094\n",
      "upload: data/retail_db_json/products/part-r-00000-158b7037-4a23-47e6-8cb3-8cbf878beff7 to s3://airetail/retail_db_json/products/part-r-00000-158b7037-4a23-47e6-8cb3-8cbf878beff7\n",
      "upload: data/retail_db_json/customers/part-r-00000-70554560-527b-44f6-9e80-4e2031af5994 to s3://airetail/retail_db_json/customers/part-r-00000-70554560-527b-44f6-9e80-4e2031af5994\n",
      "upload: data/retail_db_json/orders/part-r-00000-990f5773-9005-49ba-b670-631286032674 to s3://airetail/retail_db_json/orders/part-r-00000-990f5773-9005-49ba-b670-631286032674\n",
      "upload: data/retail_db_json/order_items/part-r-00000-6b83977e-3f20-404b-9b5f-29376ab1419e to s3://airetail/retail_db_json/order_items/part-r-00000-6b83977e-3f20-404b-9b5f-29376ab1419e\n"
     ]
    }
   ],
   "source": [
    "!aws s3 cp data/retail_db_json s3://airetail/retail_db_json --recursive"
   ]
  },
  {
   "cell_type": "code",
   "execution_count": 5,
   "metadata": {},
   "outputs": [
    {
     "name": "stdout",
     "output_type": "stream",
     "text": [
      "2022-07-18 09:59:39       4451 retail_db_json/categories/part-r-00000-ce1d8208-178d-48d3-bfb2-1a97d9c05094\n",
      "2022-07-18 09:59:39       1748 retail_db_json/create_db_tables_pg.sql\n",
      "2022-07-18 09:59:39    3105168 retail_db_json/customers/part-r-00000-70554560-527b-44f6-9e80-4e2031af5994\n",
      "2022-07-18 09:59:39        288 retail_db_json/departments/part-r-00000-3db7cfae-3ad2-4fc7-88ff-afe0ec709f49\n",
      "2022-07-18 09:59:39   28655610 retail_db_json/order_items/part-r-00000-6b83977e-3f20-404b-9b5f-29376ab1419e\n",
      "2022-07-18 09:59:40    7477339 retail_db_json/orders/part-r-00000-990f5773-9005-49ba-b670-631286032674\n",
      "2022-07-18 09:59:40     324978 retail_db_json/products/part-r-00000-158b7037-4a23-47e6-8cb3-8cbf878beff7\n"
     ]
    }
   ],
   "source": [
    "!aws s3 ls s3://airetail/retail_db_json/ --recursive"
   ]
  },
  {
   "cell_type": "code",
   "execution_count": null,
   "metadata": {},
   "outputs": [],
   "source": []
  }
 ],
 "metadata": {
  "kernelspec": {
   "display_name": "Python 3.9.12 ('mr-venv': venv)",
   "language": "python",
   "name": "python3"
  },
  "language_info": {
   "codemirror_mode": {
    "name": "ipython",
    "version": 3
   },
   "file_extension": ".py",
   "mimetype": "text/x-python",
   "name": "python",
   "nbconvert_exporter": "python",
   "pygments_lexer": "ipython3",
   "version": "3.9.12"
  },
  "orig_nbformat": 4,
  "vscode": {
   "interpreter": {
    "hash": "717b0984b08fa49729458a2f744fd21cee18cedafc19a5cab745ce1cf3f48a98"
   }
  }
 },
 "nbformat": 4,
 "nbformat_minor": 2
}
