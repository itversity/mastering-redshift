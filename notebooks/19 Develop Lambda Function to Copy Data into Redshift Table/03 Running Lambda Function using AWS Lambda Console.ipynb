{
 "cells": [
  {
   "cell_type": "markdown",
   "metadata": {},
   "source": [
    "Here are the instructions to run the Lambda Function which need to interact with AWS s3.\n",
    "* Make sure required permissions on AWS s3 bucket to the AWS IAM Role associated with Lambda Function.\n",
    "* Change the memory and timeout settings.\n",
    "* Create test event as below to test using JSON Format.\n",
    "\n",
    "```json\n",
    "{\n",
    "    \"Bucket\": \"airetail\"\n",
    "}\n",
    "```"
   ]
  },
  {
   "cell_type": "markdown",
   "metadata": {},
   "source": []
  }
 ],
 "metadata": {
  "kernelspec": {
   "display_name": "Python 3.9.12 ('mr-venv': venv)",
   "language": "python",
   "name": "python3"
  },
  "language_info": {
   "name": "python",
   "version": "3.9.12"
  },
  "orig_nbformat": 4,
  "vscode": {
   "interpreter": {
    "hash": "717b0984b08fa49729458a2f744fd21cee18cedafc19a5cab745ce1cf3f48a98"
   }
  }
 },
 "nbformat": 4,
 "nbformat_minor": 2
}
