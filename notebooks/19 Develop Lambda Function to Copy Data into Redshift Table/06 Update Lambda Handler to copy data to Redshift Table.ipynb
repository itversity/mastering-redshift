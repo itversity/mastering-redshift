{
 "cells": [
  {
   "cell_type": "markdown",
   "metadata": {},
   "source": [
    "Here is the lambda handler to copy data from files in AWS s3 to table in Redshift Serverless Workgroup Table.\n",
    "\n",
    "```python\n",
    "import boto3\n",
    "from copy_to_rstable import copy_s3_to_rstable\n",
    "\n",
    "\n",
    "def lambda_handler(event, context):\n",
    "    print(f'boto3 version: {boto3.__version__}')\n",
    "    try:\n",
    "        bucket_name = event['Bucket']\n",
    "        secret_arn = event['SecretArn']\n",
    "        table_name = event['TableName']\n",
    "        copy_res = copy_s3_to_rstable(bucket_name, secret_arn, table_name)\n",
    "    except:\n",
    "        raise\n",
    "    return {\n",
    "        'statusCode': 200,\n",
    "        'statement_status': copy_res\n",
    "    }\n",
    "\n",
    "```"
   ]
  },
  {
   "cell_type": "markdown",
   "metadata": {},
   "source": []
  }
 ],
 "metadata": {
  "kernelspec": {
   "display_name": "Python 3.10.4 64-bit",
   "language": "python",
   "name": "python3"
  },
  "language_info": {
   "name": "python",
   "version": "3.10.4"
  },
  "orig_nbformat": 4,
  "vscode": {
   "interpreter": {
    "hash": "b460384b52104c1e5b9cf54bee46a255d22b2bef338f75ac4ad5d48196028d3c"
   }
  }
 },
 "nbformat": 4,
 "nbformat_minor": 2
}
