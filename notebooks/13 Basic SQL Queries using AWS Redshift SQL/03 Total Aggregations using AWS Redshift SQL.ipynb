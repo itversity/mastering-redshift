{
 "cells": [
  {
   "cell_type": "code",
   "execution_count": null,
   "metadata": {},
   "outputs": [],
   "source": [
    "%load_ext sql"
   ]
  },
  {
   "cell_type": "code",
   "execution_count": null,
   "metadata": {},
   "outputs": [],
   "source": [
    "%%sql\n",
    "\n",
    "WITH\n",
    "    sales AS (\n",
    "        SELECT 1 AS sale_id, 1 AS course_id, 10.99 AS sale_amount\n",
    "        UNION ALL\n",
    "        SELECT 2, 2, 9.99\n",
    "        UNION ALL\n",
    "        SELECT 3, 1, 10.99\n",
    "        UNION ALL\n",
    "        SELECT 4, 3, 12.99\n",
    "        UNION ALL\n",
    "        SELECT 5, 3, 12.99\n",
    "        UNION ALL\n",
    "        SELECT 6, 1, 9.99\n",
    "        UNION ALL\n",
    "        SELECT 7, 2, 10.99\n",
    "        UNION ALL\n",
    "        SELECT 8, 2, 9.99\n",
    "        UNION ALL\n",
    "        SELECT 9, 4, 11.99\n",
    "        UNION ALL\n",
    "        SELECT 10, 1, 13.99\n",
    "    )\n",
    "SELECT * FROM sales"
   ]
  },
  {
   "cell_type": "code",
   "execution_count": null,
   "metadata": {},
   "outputs": [],
   "source": [
    "%%sql\n",
    "\n",
    "SELECT count(*) FROM retail_db.orders;"
   ]
  },
  {
   "cell_type": "code",
   "execution_count": null,
   "metadata": {},
   "outputs": [],
   "source": [
    "%%sql\n",
    "\n",
    "SELECT * FROM retail_db.orders LIMIT 10;"
   ]
  },
  {
   "cell_type": "code",
   "execution_count": null,
   "metadata": {},
   "outputs": [],
   "source": [
    "%%sql\n",
    "\n",
    "SELECT count(distinct order_date),\n",
    "\tcount(distinct order_status)\n",
    "FROM retail_db.orders;"
   ]
  },
  {
   "cell_type": "code",
   "execution_count": null,
   "metadata": {},
   "outputs": [],
   "source": [
    "%%sql\n",
    "\n",
    "SELECT count(*) FROM retail_db.order_items;"
   ]
  },
  {
   "cell_type": "code",
   "execution_count": null,
   "metadata": {},
   "outputs": [],
   "source": [
    "%%sql\n",
    "\n",
    "SELECT * \n",
    "FROM retail_db.order_items \n",
    "LIMIT 10;"
   ]
  },
  {
   "cell_type": "code",
   "execution_count": null,
   "metadata": {},
   "outputs": [],
   "source": [
    "%%sql\n",
    "\n",
    "SELECT sum(order_item_subtotal)\n",
    "FROM retail_db.order_items\n",
    "WHERE order_item_order_id = 2;"
   ]
  },
  {
   "cell_type": "code",
   "execution_count": null,
   "metadata": {},
   "outputs": [],
   "source": [
    "%%sql\n",
    "\n",
    "SELECT round(sum(order_item_subtotal), 2)\n",
    "FROM retail_db.order_items\n",
    "WHERE order_item_order_id = 2;"
   ]
  },
  {
   "cell_type": "code",
   "execution_count": null,
   "metadata": {},
   "outputs": [],
   "source": [
    "%%sql\n",
    "\n",
    "SELECT count(*) item_count,\n",
    "\tround(sum(order_item_subtotal), 2) total_revenue,\n",
    "    round(avg(order_item_subtotal), 2) avg_revenue\n",
    "FROM retail_db.order_items\n",
    "WHERE order_item_order_id = 2;"
   ]
  },
  {
   "cell_type": "markdown",
   "metadata": {},
   "source": [
    "Here are some of the commonly used aggregate functions.\n",
    "* `count`\n",
    "* `sum`\n",
    "* `avg`\n",
    "* `min`\n",
    "* `max`"
   ]
  },
  {
   "cell_type": "markdown",
   "metadata": {},
   "source": []
  }
 ],
 "metadata": {
  "kernelspec": {
   "display_name": "Python 3.9.12 ('mr-venv': venv)",
   "language": "python",
   "name": "python3"
  },
  "language_info": {
   "codemirror_mode": {
    "name": "ipython",
    "version": 3
   },
   "file_extension": ".py",
   "mimetype": "text/x-python",
   "name": "python",
   "nbconvert_exporter": "python",
   "pygments_lexer": "ipython3",
   "version": "3.9.12"
  },
  "orig_nbformat": 4,
  "vscode": {
   "interpreter": {
    "hash": "717b0984b08fa49729458a2f744fd21cee18cedafc19a5cab745ce1cf3f48a98"
   }
  }
 },
 "nbformat": 4,
 "nbformat_minor": 2
}
