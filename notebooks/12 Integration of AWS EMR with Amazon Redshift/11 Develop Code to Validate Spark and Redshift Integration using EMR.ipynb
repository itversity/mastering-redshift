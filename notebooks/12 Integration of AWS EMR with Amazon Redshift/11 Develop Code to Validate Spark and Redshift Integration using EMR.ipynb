{
 "cells": [
  {
   "cell_type": "code",
   "execution_count": null,
   "metadata": {},
   "outputs": [],
   "source": [
    "from pyspark.sql import SparkSession"
   ]
  },
  {
   "cell_type": "code",
   "execution_count": null,
   "metadata": {},
   "outputs": [],
   "source": [
    "jars = [\n",
    "    '/usr/share/aws/redshift/jdbc/RedshiftJDBC.jar',\n",
    "    '/usr/share/aws/redshift/spark-redshift/lib/spark-redshift.jar',\n",
    "    '/usr/share/aws/redshift/spark-redshift/lib/spark-avro.jar',\n",
    "    '/usr/share/aws/redshift/spark-redshift/lib/minimal-json.jar'\n",
    "]"
   ]
  },
  {
   "cell_type": "code",
   "execution_count": null,
   "metadata": {},
   "outputs": [],
   "source": [
    "spark = SparkSession. \\\n",
    "    builder. \\\n",
    "    appName('Redshift Integration'). \\\n",
    "    master('yarn'). \\\n",
    "    config('spark.jars', ','.join(jars)). \\\n",
    "    getOrCreate()"
   ]
  },
  {
   "cell_type": "code",
   "execution_count": null,
   "metadata": {},
   "outputs": [],
   "source": [
    "import boto3\n",
    "import json\n",
    "sm_client = boto3.client('secretsmanager')\n",
    "secret_value = sm_client.get_secret_value(SecretId='demo/aigithub/redshift')\n",
    "credentials = json.loads(secret_value['SecretString'])\n",
    "\n",
    "username = credentials['username']\n",
    "password = credentials['password']\n",
    "host = credentials['host']\n",
    "port = credentials['port']\n",
    "database = 'github_dm'\n",
    "url = f\"jdbc:redshift://{host}:{port}/{database}?user={username}&password={password}\""
   ]
  },
  {
   "cell_type": "code",
   "execution_count": null,
   "metadata": {},
   "outputs": [],
   "source": [
    "\n",
    "df = spark. \\\n",
    "    read. \\\n",
    "    format('io.github.spark_redshift_community.spark.redshift'). \\\n",
    "    option(\n",
    "        'aws_iam_role', \n",
    "        'arn:aws:iam::269066542444:role/service-role/AmazonRedshift-CommandsAccessRole-20220625T110940'\n",
    "    ). \\\n",
    "    option('url', url). \\\n",
    "    option('dbtable', 'public.ghrepos'). \\\n",
    "    option('tempdir', 's3://aigithub/temp/ghrepos'). \\\n",
    "    load()"
   ]
  },
  {
   "cell_type": "code",
   "execution_count": null,
   "metadata": {},
   "outputs": [],
   "source": [
    "df.printSchema()"
   ]
  },
  {
   "cell_type": "code",
   "execution_count": null,
   "metadata": {},
   "outputs": [],
   "source": [
    "df.show()"
   ]
  },
  {
   "cell_type": "code",
   "execution_count": null,
   "metadata": {},
   "outputs": [],
   "source": []
  }
 ],
 "metadata": {
  "kernelspec": {
   "display_name": "Python 3.6.8 64-bit",
   "language": "python",
   "name": "python3"
  },
  "language_info": {
   "codemirror_mode": {
    "name": "ipython",
    "version": 3
   },
   "file_extension": ".py",
   "mimetype": "text/x-python",
   "name": "python",
   "nbconvert_exporter": "python",
   "pygments_lexer": "ipython3",
   "version": "3.7.10"
  },
  "orig_nbformat": 4,
  "vscode": {
   "interpreter": {
    "hash": "916dbcbb3f70747c44a77c7bcd40155683ae19c65e1c03b4aa3499c5328201f1"
   }
  }
 },
 "nbformat": 4,
 "nbformat_minor": 2
}
