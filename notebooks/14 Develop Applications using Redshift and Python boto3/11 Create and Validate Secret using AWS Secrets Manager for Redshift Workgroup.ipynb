{
 "cells": [
  {
   "cell_type": "code",
   "execution_count": 1,
   "metadata": {},
   "outputs": [],
   "source": [
    "import boto3"
   ]
  },
  {
   "cell_type": "code",
   "execution_count": 2,
   "metadata": {},
   "outputs": [],
   "source": [
    "rsd_client = boto3.client('redshift-data')"
   ]
  },
  {
   "cell_type": "code",
   "execution_count": 3,
   "metadata": {},
   "outputs": [],
   "source": [
    "table_name = 'daily_product_revenue'"
   ]
  },
  {
   "cell_type": "code",
   "execution_count": 4,
   "metadata": {},
   "outputs": [],
   "source": [
    "count_query = f'''SELECT count(*) FROM {table_name}'''"
   ]
  },
  {
   "cell_type": "code",
   "execution_count": 5,
   "metadata": {},
   "outputs": [],
   "source": [
    "count_query_id = rsd_client.execute_statement(\n",
    "    WorkgroupName='retail-wg',\n",
    "    Database='retail_dm',\n",
    "    Sql=count_query\n",
    ")['Id']"
   ]
  },
  {
   "cell_type": "code",
   "execution_count": 6,
   "metadata": {},
   "outputs": [
    {
     "data": {
      "text/plain": [
       "{'CreatedAt': datetime.datetime(2022, 7, 22, 4, 50, 27, 55000, tzinfo=tzlocal()),\n",
       " 'Duration': 35017050,\n",
       " 'HasResultSet': True,\n",
       " 'Id': '256a86de-4aab-435e-a2ec-30fabe5ad6de',\n",
       " 'QueryString': 'SELECT count(*) FROM daily_product_revenue',\n",
       " 'RedshiftPid': 1073859771,\n",
       " 'RedshiftQueryId': 54476,\n",
       " 'ResultRows': 1,\n",
       " 'ResultSize': 20,\n",
       " 'Status': 'FINISHED',\n",
       " 'UpdatedAt': datetime.datetime(2022, 7, 22, 4, 50, 27, 714000, tzinfo=tzlocal()),\n",
       " 'WorkgroupName': 'retail-wg',\n",
       " 'ResponseMetadata': {'RequestId': 'bf34adf4-ce58-41f6-83c2-0f4afec9e15e',\n",
       "  'HTTPStatusCode': 200,\n",
       "  'HTTPHeaders': {'x-amzn-requestid': 'bf34adf4-ce58-41f6-83c2-0f4afec9e15e',\n",
       "   'content-type': 'application/x-amz-json-1.1',\n",
       "   'content-length': '330',\n",
       "   'date': 'Thu, 21 Jul 2022 23:20:28 GMT'},\n",
       "  'RetryAttempts': 0}}"
      ]
     },
     "execution_count": 6,
     "metadata": {},
     "output_type": "execute_result"
    }
   ],
   "source": [
    "rsd_client.describe_statement(Id=count_query_id)"
   ]
  },
  {
   "cell_type": "code",
   "execution_count": 7,
   "metadata": {},
   "outputs": [
    {
     "name": "stdout",
     "output_type": "stream",
     "text": [
      "\u001b[0;31mSignature:\u001b[0m \u001b[0mrsd_client\u001b[0m\u001b[0;34m.\u001b[0m\u001b[0mexecute_statement\u001b[0m\u001b[0;34m(\u001b[0m\u001b[0;34m*\u001b[0m\u001b[0margs\u001b[0m\u001b[0;34m,\u001b[0m \u001b[0;34m**\u001b[0m\u001b[0mkwargs\u001b[0m\u001b[0;34m)\u001b[0m\u001b[0;34m\u001b[0m\u001b[0;34m\u001b[0m\u001b[0m\n",
      "\u001b[0;31mDocstring:\u001b[0m\n",
      "Runs an SQL statement, which can be data manipulation language (DML) or data definition language (DDL). This statement must be a single SQL statement. Depending on the authorization method, use one of the following combinations of request parameters: \n",
      "\n",
      " \n",
      "\n",
      " \n",
      "* Secrets Manager - when connecting to a cluster, specify the Amazon Resource Name (ARN) of the secret, the database name, and the cluster identifier that matches the cluster in the secret. When connecting to a serverless workgroup, specify the Amazon Resource Name (ARN) of the secret and the database name.  \n",
      " \n",
      "* Temporary credentials - when connecting to a cluster, specify the cluster identifier, the database name, and the database user name. Also, permission to call the ``redshift:GetClusterCredentials`` operation is required. When connecting to a serverless workgroup, specify the workgroup name and database name. Also, permission to call the ``redshift-serverless:GetCredentials`` operation is required.  \n",
      " \n",
      "\n",
      "\n",
      "\n",
      "See also: `AWS API Documentation <https://docs.aws.amazon.com/goto/WebAPI/redshift-data-2019-12-20/ExecuteStatement>`_\n",
      "\n",
      "\n",
      "**Request Syntax** \n",
      "::\n",
      "\n",
      "  response = client.execute_statement(\n",
      "      ClusterIdentifier='string',\n",
      "      Database='string',\n",
      "      DbUser='string',\n",
      "      Parameters=[\n",
      "          {\n",
      "              'name': 'string',\n",
      "              'value': 'string'\n",
      "          },\n",
      "      ],\n",
      "      SecretArn='string',\n",
      "      Sql='string',\n",
      "      StatementName='string',\n",
      "      WithEvent=True|False,\n",
      "      WorkgroupName='string'\n",
      "  )\n",
      ":type ClusterIdentifier: string\n",
      ":param ClusterIdentifier: \n",
      "\n",
      "  The cluster identifier. This parameter is required when connecting to a cluster and authenticating using either Secrets Manager or temporary credentials. \n",
      "\n",
      "  \n",
      "\n",
      "\n",
      ":type Database: string\n",
      ":param Database: **[REQUIRED]** \n",
      "\n",
      "  The name of the database. This parameter is required when authenticating using either Secrets Manager or temporary credentials. \n",
      "\n",
      "  \n",
      "\n",
      "\n",
      ":type DbUser: string\n",
      ":param DbUser: \n",
      "\n",
      "  The database user name. This parameter is required when connecting to a cluster and authenticating using temporary credentials. \n",
      "\n",
      "  \n",
      "\n",
      "\n",
      ":type Parameters: list\n",
      ":param Parameters: \n",
      "\n",
      "  The parameters for the SQL statement.\n",
      "\n",
      "  \n",
      "\n",
      "\n",
      "  - *(dict) --* \n",
      "\n",
      "    A parameter used in a SQL statement.\n",
      "\n",
      "    \n",
      "\n",
      "  \n",
      "    - **name** *(string) --* **[REQUIRED]** \n",
      "\n",
      "      The name of the parameter.\n",
      "\n",
      "      \n",
      "\n",
      "    \n",
      "    - **value** *(string) --* **[REQUIRED]** \n",
      "\n",
      "      The value of the parameter. Amazon Redshift implicitly converts to the proper data type. For more inforation, see `Data types <https://docs.aws.amazon.com/redshift/latest/dg/c_Supported_data_types.html>`__ in the *Amazon Redshift Database Developer Guide* . \n",
      "\n",
      "      \n",
      "\n",
      "    \n",
      "  \n",
      "\n",
      ":type SecretArn: string\n",
      ":param SecretArn: \n",
      "\n",
      "  The name or ARN of the secret that enables access to the database. This parameter is required when authenticating using Secrets Manager. \n",
      "\n",
      "  \n",
      "\n",
      "\n",
      ":type Sql: string\n",
      ":param Sql: **[REQUIRED]** \n",
      "\n",
      "  The SQL statement text to run. \n",
      "\n",
      "  \n",
      "\n",
      "\n",
      ":type StatementName: string\n",
      ":param StatementName: \n",
      "\n",
      "  The name of the SQL statement. You can name the SQL statement when you create it to identify the query. \n",
      "\n",
      "  \n",
      "\n",
      "\n",
      ":type WithEvent: boolean\n",
      ":param WithEvent: \n",
      "\n",
      "  A value that indicates whether to send an event to the Amazon EventBridge event bus after the SQL statement runs. \n",
      "\n",
      "  \n",
      "\n",
      "\n",
      ":type WorkgroupName: string\n",
      ":param WorkgroupName: \n",
      "\n",
      "  The serverless workgroup name. This parameter is required when connecting to a serverless workgroup and authenticating using either Secrets Manager or temporary credentials.\n",
      "\n",
      "  \n",
      "\n",
      "\n",
      "\n",
      ":rtype: dict\n",
      ":returns: \n",
      "  \n",
      "  **Response Syntax** \n",
      "\n",
      "  \n",
      "  ::\n",
      "\n",
      "    {\n",
      "        'ClusterIdentifier': 'string',\n",
      "        'CreatedAt': datetime(2015, 1, 1),\n",
      "        'Database': 'string',\n",
      "        'DbUser': 'string',\n",
      "        'Id': 'string',\n",
      "        'SecretArn': 'string',\n",
      "        'WorkgroupName': 'string'\n",
      "    }\n",
      "  **Response Structure** \n",
      "\n",
      "  \n",
      "\n",
      "  - *(dict) --* \n",
      "    \n",
      "\n",
      "    - **ClusterIdentifier** *(string) --* \n",
      "\n",
      "      The cluster identifier. This element is not returned when connecting to a serverless workgroup. \n",
      "\n",
      "      \n",
      "    \n",
      "\n",
      "    - **CreatedAt** *(datetime) --* \n",
      "\n",
      "      The date and time (UTC) the statement was created. \n",
      "\n",
      "      \n",
      "    \n",
      "\n",
      "    - **Database** *(string) --* \n",
      "\n",
      "      The name of the database.\n",
      "\n",
      "      \n",
      "    \n",
      "\n",
      "    - **DbUser** *(string) --* \n",
      "\n",
      "      The database user name.\n",
      "\n",
      "      \n",
      "    \n",
      "\n",
      "    - **Id** *(string) --* \n",
      "\n",
      "      The identifier of the SQL statement whose results are to be fetched. This value is a universally unique identifier (UUID) generated by Amazon Redshift Data API. \n",
      "\n",
      "      \n",
      "    \n",
      "\n",
      "    - **SecretArn** *(string) --* \n",
      "\n",
      "      The name or ARN of the secret that enables access to the database. \n",
      "\n",
      "      \n",
      "    \n",
      "\n",
      "    - **WorkgroupName** *(string) --* \n",
      "\n",
      "      The serverless workgroup name. This element is not returned when connecting to a provisioned cluster.\n",
      "\n",
      "      \n",
      "\u001b[0;31mFile:\u001b[0m      ~/Projects/Internal/bootcamp/itversity-material/mastering-redshift/mr-venv/lib/python3.9/site-packages/botocore/client.py\n",
      "\u001b[0;31mType:\u001b[0m      method\n"
     ]
    }
   ],
   "source": [
    "rsd_client.execute_statement?"
   ]
  },
  {
   "cell_type": "code",
   "execution_count": 8,
   "metadata": {},
   "outputs": [],
   "source": [
    "secret_arn = 'arn:aws:secretsmanager:us-east-1:269066542444:secret:demo/retail/redshiftwg-2ILtDP'"
   ]
  },
  {
   "cell_type": "code",
   "execution_count": 9,
   "metadata": {},
   "outputs": [],
   "source": [
    "count_query_id = rsd_client.execute_statement(\n",
    "    WorkgroupName='retail-wg',\n",
    "    Database='retail_dm',\n",
    "    SecretArn=secret_arn,\n",
    "    Sql=count_query\n",
    ")['Id']"
   ]
  },
  {
   "cell_type": "code",
   "execution_count": 10,
   "metadata": {},
   "outputs": [
    {
     "data": {
      "text/plain": [
       "{'CreatedAt': datetime.datetime(2022, 7, 22, 4, 50, 34, 859000, tzinfo=tzlocal()),\n",
       " 'Duration': 6361124,\n",
       " 'HasResultSet': True,\n",
       " 'Id': '999a0bf1-ea35-4c20-89e2-8794aca7d759',\n",
       " 'QueryString': 'SELECT count(*) FROM daily_product_revenue',\n",
       " 'RedshiftPid': 1073835266,\n",
       " 'RedshiftQueryId': 54484,\n",
       " 'ResultRows': 1,\n",
       " 'ResultSize': 20,\n",
       " 'SecretArn': 'arn:aws:secretsmanager:us-east-1:269066542444:secret:demo/retail/redshiftwg-2ILtDP',\n",
       " 'Status': 'FINISHED',\n",
       " 'UpdatedAt': datetime.datetime(2022, 7, 22, 4, 50, 35, 403000, tzinfo=tzlocal()),\n",
       " 'WorkgroupName': 'retail-wg',\n",
       " 'ResponseMetadata': {'RequestId': '14f2cf64-141b-4ed7-9004-d08d25ff4739',\n",
       "  'HTTPStatusCode': 200,\n",
       "  'HTTPHeaders': {'x-amzn-requestid': '14f2cf64-141b-4ed7-9004-d08d25ff4739',\n",
       "   'content-type': 'application/x-amz-json-1.1',\n",
       "   'content-length': '426',\n",
       "   'date': 'Thu, 21 Jul 2022 23:20:36 GMT'},\n",
       "  'RetryAttempts': 0}}"
      ]
     },
     "execution_count": 10,
     "metadata": {},
     "output_type": "execute_result"
    }
   ],
   "source": [
    "rsd_client.describe_statement(Id=count_query_id)"
   ]
  },
  {
   "cell_type": "code",
   "execution_count": 11,
   "metadata": {},
   "outputs": [
    {
     "data": {
      "text/plain": [
       "[[{'longValue': 38385}]]"
      ]
     },
     "execution_count": 11,
     "metadata": {},
     "output_type": "execute_result"
    }
   ],
   "source": [
    "rsd_client.get_statement_result(Id=count_query_id)['Records']"
   ]
  },
  {
   "cell_type": "code",
   "execution_count": null,
   "metadata": {},
   "outputs": [],
   "source": []
  }
 ],
 "metadata": {
  "kernelspec": {
   "display_name": "Python 3.9.12 ('mr-venv': venv)",
   "language": "python",
   "name": "python3"
  },
  "language_info": {
   "codemirror_mode": {
    "name": "ipython",
    "version": 3
   },
   "file_extension": ".py",
   "mimetype": "text/x-python",
   "name": "python",
   "nbconvert_exporter": "python",
   "pygments_lexer": "ipython3",
   "version": "3.9.12"
  },
  "orig_nbformat": 4,
  "vscode": {
   "interpreter": {
    "hash": "717b0984b08fa49729458a2f744fd21cee18cedafc19a5cab745ce1cf3f48a98"
   }
  }
 },
 "nbformat": 4,
 "nbformat_minor": 2
}
