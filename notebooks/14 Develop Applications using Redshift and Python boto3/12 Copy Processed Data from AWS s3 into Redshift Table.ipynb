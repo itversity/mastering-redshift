{
 "cells": [
  {
   "cell_type": "code",
   "execution_count": null,
   "metadata": {},
   "outputs": [],
   "source": [
    "!aws s3 ls s3://airetail/retail_db_json/daily_product_revenue/"
   ]
  },
  {
   "cell_type": "code",
   "execution_count": null,
   "metadata": {},
   "outputs": [],
   "source": [
    "import boto3"
   ]
  },
  {
   "cell_type": "code",
   "execution_count": null,
   "metadata": {},
   "outputs": [],
   "source": [
    "rsd_client = boto3.client('redshift-data')"
   ]
  },
  {
   "cell_type": "code",
   "execution_count": null,
   "metadata": {},
   "outputs": [],
   "source": [
    "table_name = 'daily_product_revenue'"
   ]
  },
  {
   "cell_type": "code",
   "execution_count": null,
   "metadata": {},
   "outputs": [],
   "source": [
    "secret_arn = '<REPLACE WITH YOUR SECRET ARN>'"
   ]
  },
  {
   "cell_type": "code",
   "execution_count": null,
   "metadata": {},
   "outputs": [],
   "source": [
    "truncate_table_cmd = f'''TRUNCATE TABLE public.{table_name}'''"
   ]
  },
  {
   "cell_type": "code",
   "execution_count": null,
   "metadata": {},
   "outputs": [],
   "source": [
    "truncate_table_cmd_id = rsd_client.execute_statement(\n",
    "    WorkgroupName='retail-wg',\n",
    "    Database='retail_dm',\n",
    "    SecretArn=secret_arn,\n",
    "    Sql=truncate_table_cmd\n",
    ")['Id']"
   ]
  },
  {
   "cell_type": "code",
   "execution_count": null,
   "metadata": {},
   "outputs": [],
   "source": [
    "rsd_client.describe_statement(Id=truncate_table_cmd_id)"
   ]
  },
  {
   "cell_type": "code",
   "execution_count": null,
   "metadata": {},
   "outputs": [],
   "source": [
    "count_query = f'''SELECT count(*) FROM {table_name}'''"
   ]
  },
  {
   "cell_type": "code",
   "execution_count": null,
   "metadata": {},
   "outputs": [],
   "source": [
    "count_query_id = rsd_client.execute_statement(\n",
    "    WorkgroupName='retail-wg',\n",
    "    Database='retail_dm',\n",
    "    SecretArn=secret_arn,\n",
    "    Sql=count_query\n",
    ")['Id']"
   ]
  },
  {
   "cell_type": "code",
   "execution_count": null,
   "metadata": {},
   "outputs": [],
   "source": [
    "rsd_client.describe_statement(Id=count_query_id)"
   ]
  },
  {
   "cell_type": "code",
   "execution_count": null,
   "metadata": {},
   "outputs": [],
   "source": [
    "rsd_client.get_statement_result(Id=count_query_id)['Records']"
   ]
  },
  {
   "cell_type": "code",
   "execution_count": null,
   "metadata": {},
   "outputs": [],
   "source": [
    "bucket_name = 'airetail'\n"
   ]
  },
  {
   "cell_type": "code",
   "execution_count": null,
   "metadata": {},
   "outputs": [],
   "source": [
    "rs_copy_command = f'''\n",
    "    COPY {table_name} FROM 's3://{bucket_name}/retail_db_json/{table_name}' \n",
    "    IAM_ROLE 'arn:aws:iam::269066542444:role/AIRedshiftRetailSpectrum'\n",
    "    JSON AS 'auto'\n",
    "'''"
   ]
  },
  {
   "cell_type": "code",
   "execution_count": null,
   "metadata": {},
   "outputs": [],
   "source": [
    "from botocore.exceptions import WaiterError\n",
    "from botocore.waiter import WaiterModel\n",
    "from botocore.waiter import create_waiter_with_client"
   ]
  },
  {
   "cell_type": "code",
   "execution_count": null,
   "metadata": {},
   "outputs": [],
   "source": [
    "waiter_name = 'DataAPIExecution'\n",
    "\n",
    "delay=2\n",
    "max_attempts=3\n",
    "\n",
    "#Configure the waiter settings\n",
    "waiter_config = {\n",
    "  'version': 2,\n",
    "  'waiters': {\n",
    "    'DataAPIExecution': {\n",
    "      'operation': 'DescribeStatement',\n",
    "      'delay': delay,\n",
    "      'maxAttempts': max_attempts,\n",
    "      'acceptors': [\n",
    "        {\n",
    "          \"matcher\": \"path\",\n",
    "          \"expected\": \"FINISHED\",\n",
    "          \"argument\": \"Status\",\n",
    "          \"state\": \"success\"\n",
    "        },\n",
    "        {\n",
    "          \"matcher\": \"pathAny\",\n",
    "          \"expected\": [\"PICKED\",\"STARTED\",\"SUBMITTED\"],\n",
    "          \"argument\": \"Status\",\n",
    "          \"state\": \"retry\"\n",
    "        },\n",
    "        {\n",
    "          \"matcher\": \"pathAny\",\n",
    "          \"expected\": [\"FAILED\",\"ABORTED\"],\n",
    "          \"argument\": \"Status\",\n",
    "          \"state\": \"failure\"\n",
    "        }\n",
    "      ],\n",
    "    },\n",
    "  },\n",
    "}"
   ]
  },
  {
   "cell_type": "code",
   "execution_count": null,
   "metadata": {},
   "outputs": [],
   "source": [
    "waiter_model = WaiterModel(waiter_config)"
   ]
  },
  {
   "cell_type": "code",
   "execution_count": null,
   "metadata": {},
   "outputs": [],
   "source": [
    "custom_waiter = create_waiter_with_client(waiter_name, waiter_model, rsd_client)"
   ]
  },
  {
   "cell_type": "code",
   "execution_count": null,
   "metadata": {},
   "outputs": [],
   "source": [
    "rs_copy_command_id = rsd_client.execute_statement(\n",
    "    WorkgroupName='retail-wg',\n",
    "    Database='retail_dm',\n",
    "    SecretArn=secret_arn,\n",
    "    Sql=rs_copy_command\n",
    ")['Id']\n",
    "\n",
    "try:\n",
    "    custom_waiter.wait(Id=rs_copy_command_id)    \n",
    "except WaiterError as e:\n",
    "    print (e)\n"
   ]
  },
  {
   "cell_type": "code",
   "execution_count": null,
   "metadata": {},
   "outputs": [],
   "source": [
    "rsd_client.describe_statement(Id=rs_copy_command_id)"
   ]
  },
  {
   "cell_type": "code",
   "execution_count": null,
   "metadata": {},
   "outputs": [],
   "source": [
    "count_query = f'''SELECT count(*) FROM public.{table_name}'''"
   ]
  },
  {
   "cell_type": "code",
   "execution_count": null,
   "metadata": {},
   "outputs": [],
   "source": [
    "count_query_id = rsd_client.execute_statement(\n",
    "    WorkgroupName='retail-wg',\n",
    "    Database='retail_dm',\n",
    "    SecretArn=secret_arn,\n",
    "    Sql=count_query\n",
    ")['Id']"
   ]
  },
  {
   "cell_type": "code",
   "execution_count": null,
   "metadata": {},
   "outputs": [],
   "source": [
    "rsd_client.describe_statement(Id=count_query_id)"
   ]
  },
  {
   "cell_type": "code",
   "execution_count": null,
   "metadata": {},
   "outputs": [],
   "source": [
    "rsd_client.get_statement_result(Id=count_query_id)['Records']"
   ]
  },
  {
   "cell_type": "code",
   "execution_count": null,
   "metadata": {},
   "outputs": [],
   "source": []
  }
 ],
 "metadata": {
  "kernelspec": {
   "display_name": "Python 3.9.12 ('mr-venv': venv)",
   "language": "python",
   "name": "python3"
  },
  "language_info": {
   "codemirror_mode": {
    "name": "ipython",
    "version": 3
   },
   "file_extension": ".py",
   "mimetype": "text/x-python",
   "name": "python",
   "nbconvert_exporter": "python",
   "pygments_lexer": "ipython3",
   "version": "3.9.12"
  },
  "orig_nbformat": 4,
  "vscode": {
   "interpreter": {
    "hash": "717b0984b08fa49729458a2f744fd21cee18cedafc19a5cab745ce1cf3f48a98"
   }
  }
 },
 "nbformat": 4,
 "nbformat_minor": 2
}
