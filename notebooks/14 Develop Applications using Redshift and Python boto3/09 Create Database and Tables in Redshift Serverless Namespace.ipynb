{
 "cells": [
  {
   "cell_type": "markdown",
   "metadata": {},
   "source": [
    "Run these commands to setup database and tables in Redshift Serverless Namespace/Workgroup. If you are using Redshift Query Editor to run commands to create tables make sure to choose appropriate database from the database drop down.\n",
    "\n",
    "```sql\n",
    "CREATE DATABASE retail_db;\n",
    "CREATE USER retail_user WITH PASSWORD 'Itversity123';\n",
    "GRANT ALL ON DATABASE retail_db TO retail_user;\n",
    "```"
   ]
  },
  {
   "cell_type": "markdown",
   "metadata": {},
   "source": [
    "Let us create required tables for orders and order items in **retail_db** database.\n",
    "\n",
    "```sql\n",
    "CREATE TABLE orders (\n",
    "    order_id INT DISTKEY,\n",
    "    order_date VARCHAR,\n",
    "    order_customer_id INT,\n",
    "    order_status VARCHAR\n",
    ");\n",
    "\n",
    "ALTER TABLE orders\n",
    "    OWNER TO retail_user;\n",
    "\n",
    "CREATE TABLE order_items (\n",
    "    order_item_id INT DISTKEY,\n",
    "    order_item_order_id INT,\n",
    "    order_item_product_id INT,\n",
    "    order_item_quantity INT,\n",
    "    order_item_subtotal FLOAT,\n",
    "    order_item_product_price FLOAT\n",
    ");\n",
    "\n",
    "ALTER TABLE order_items\n",
    "    OWNER TO retail_user;\n",
    "```"
   ]
  }
 ],
 "metadata": {
  "kernelspec": {
   "display_name": "Python 3.10.4 64-bit",
   "language": "python",
   "name": "python3"
  },
  "language_info": {
   "codemirror_mode": {
    "name": "ipython",
    "version": 3
   },
   "file_extension": ".py",
   "mimetype": "text/x-python",
   "name": "python",
   "nbconvert_exporter": "python",
   "pygments_lexer": "ipython3",
   "version": "3.10.4"
  },
  "orig_nbformat": 4,
  "vscode": {
   "interpreter": {
    "hash": "b460384b52104c1e5b9cf54bee46a255d22b2bef338f75ac4ad5d48196028d3c"
   }
  }
 },
 "nbformat": 4,
 "nbformat_minor": 2
}
