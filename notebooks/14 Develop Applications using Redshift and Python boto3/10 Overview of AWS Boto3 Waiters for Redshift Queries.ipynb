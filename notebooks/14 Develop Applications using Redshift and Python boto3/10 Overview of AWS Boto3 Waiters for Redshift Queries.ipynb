{
 "cells": [
  {
   "cell_type": "code",
   "execution_count": 1,
   "metadata": {},
   "outputs": [],
   "source": [
    "import boto3"
   ]
  },
  {
   "cell_type": "code",
   "execution_count": 2,
   "metadata": {},
   "outputs": [],
   "source": [
    "rsd_client = boto3.client('redshift-data')"
   ]
  },
  {
   "cell_type": "code",
   "execution_count": 3,
   "metadata": {},
   "outputs": [],
   "source": [
    "query_id = rsd_client.execute_statement(\n",
    "    WorkgroupName='retail-wg',\n",
    "    Database='retail_dm',\n",
    "    Sql='SELECT current_date'\n",
    ")['Id']"
   ]
  },
  {
   "cell_type": "code",
   "execution_count": 4,
   "metadata": {},
   "outputs": [
    {
     "data": {
      "text/plain": [
       "{'CreatedAt': datetime.datetime(2022, 7, 21, 17, 55, 45, 895000, tzinfo=tzlocal()),\n",
       " 'Duration': 6128724,\n",
       " 'HasResultSet': True,\n",
       " 'Id': '0224d62b-e3bc-48e9-a60a-7ae77cefc52f',\n",
       " 'QueryString': 'SELECT current_date',\n",
       " 'RedshiftPid': 1073930947,\n",
       " 'RedshiftQueryId': 0,\n",
       " 'ResultRows': 1,\n",
       " 'ResultSize': 10,\n",
       " 'Status': 'FINISHED',\n",
       " 'UpdatedAt': datetime.datetime(2022, 7, 21, 17, 55, 46, 583000, tzinfo=tzlocal()),\n",
       " 'WorkgroupName': 'retail-wg',\n",
       " 'ResponseMetadata': {'RequestId': '59929a2e-0969-4b02-8832-97df966ed21e',\n",
       "  'HTTPStatusCode': 200,\n",
       "  'HTTPHeaders': {'x-amzn-requestid': '59929a2e-0969-4b02-8832-97df966ed21e',\n",
       "   'content-type': 'application/x-amz-json-1.1',\n",
       "   'content-length': '302',\n",
       "   'date': 'Thu, 21 Jul 2022 12:25:58 GMT'},\n",
       "  'RetryAttempts': 0}}"
      ]
     },
     "execution_count": 4,
     "metadata": {},
     "output_type": "execute_result"
    }
   ],
   "source": [
    "rsd_client.describe_statement(Id=query_id)"
   ]
  },
  {
   "cell_type": "code",
   "execution_count": 7,
   "metadata": {},
   "outputs": [],
   "source": [
    "from botocore.exceptions import WaiterError\n",
    "from botocore.waiter import WaiterModel\n",
    "from botocore.waiter import create_waiter_with_client"
   ]
  },
  {
   "cell_type": "code",
   "execution_count": 8,
   "metadata": {},
   "outputs": [],
   "source": [
    "waiter_name = 'DataAPIExecution'\n",
    "\n",
    "delay=2\n",
    "max_attempts=3\n",
    "\n",
    "#Configure the waiter settings\n",
    "waiter_config = {\n",
    "  'version': 2,\n",
    "  'waiters': {\n",
    "    'DataAPIExecution': {\n",
    "      'operation': 'DescribeStatement',\n",
    "      'delay': delay,\n",
    "      'maxAttempts': max_attempts,\n",
    "      'acceptors': [\n",
    "        {\n",
    "          \"matcher\": \"path\",\n",
    "          \"expected\": \"FINISHED\",\n",
    "          \"argument\": \"Status\",\n",
    "          \"state\": \"success\"\n",
    "        },\n",
    "        {\n",
    "          \"matcher\": \"pathAny\",\n",
    "          \"expected\": [\"PICKED\",\"STARTED\",\"SUBMITTED\"],\n",
    "          \"argument\": \"Status\",\n",
    "          \"state\": \"retry\"\n",
    "        },\n",
    "        {\n",
    "          \"matcher\": \"pathAny\",\n",
    "          \"expected\": [\"FAILED\",\"ABORTED\"],\n",
    "          \"argument\": \"Status\",\n",
    "          \"state\": \"failure\"\n",
    "        }\n",
    "      ],\n",
    "    },\n",
    "  },\n",
    "}"
   ]
  },
  {
   "cell_type": "code",
   "execution_count": 9,
   "metadata": {},
   "outputs": [],
   "source": [
    "waiter_model = WaiterModel(waiter_config)"
   ]
  },
  {
   "cell_type": "code",
   "execution_count": 10,
   "metadata": {},
   "outputs": [],
   "source": [
    "custom_waiter = create_waiter_with_client(\n",
    "    waiter_name, waiter_model, rsd_client\n",
    ")"
   ]
  },
  {
   "cell_type": "code",
   "execution_count": 11,
   "metadata": {},
   "outputs": [],
   "source": [
    "query_id = rsd_client.execute_statement(\n",
    "    WorkgroupName='retail-wg',\n",
    "    Database='retail_dm',\n",
    "    Sql='SELECT current_date'\n",
    ")['Id']\n",
    "\n",
    "try:\n",
    "    custom_waiter.wait(Id=query_id)    \n",
    "except WaiterError as e:\n",
    "    print (e)\n"
   ]
  },
  {
   "cell_type": "code",
   "execution_count": 12,
   "metadata": {},
   "outputs": [
    {
     "data": {
      "text/plain": [
       "{'CreatedAt': datetime.datetime(2022, 7, 21, 18, 12, 52, 30000, tzinfo=tzlocal()),\n",
       " 'Duration': 5536075,\n",
       " 'HasResultSet': True,\n",
       " 'Id': '9941257d-1933-4d4d-b752-6028934bda1c',\n",
       " 'QueryString': 'SELECT current_date',\n",
       " 'RedshiftPid': 1073988292,\n",
       " 'RedshiftQueryId': 0,\n",
       " 'ResultRows': 1,\n",
       " 'ResultSize': 10,\n",
       " 'Status': 'FINISHED',\n",
       " 'UpdatedAt': datetime.datetime(2022, 7, 21, 18, 12, 52, 815000, tzinfo=tzlocal()),\n",
       " 'WorkgroupName': 'retail-wg',\n",
       " 'ResponseMetadata': {'RequestId': 'c78cb6c5-80eb-405e-8c5c-d16eef095ecc',\n",
       "  'HTTPStatusCode': 200,\n",
       "  'HTTPHeaders': {'x-amzn-requestid': 'c78cb6c5-80eb-405e-8c5c-d16eef095ecc',\n",
       "   'content-type': 'application/x-amz-json-1.1',\n",
       "   'content-length': '301',\n",
       "   'date': 'Thu, 21 Jul 2022 12:43:15 GMT'},\n",
       "  'RetryAttempts': 0}}"
      ]
     },
     "execution_count": 12,
     "metadata": {},
     "output_type": "execute_result"
    }
   ],
   "source": [
    "rsd_client.describe_statement(Id=query_id)"
   ]
  },
  {
   "cell_type": "code",
   "execution_count": null,
   "metadata": {},
   "outputs": [],
   "source": []
  }
 ],
 "metadata": {
  "kernelspec": {
   "display_name": "Python 3.9.12 ('mr-venv': venv)",
   "language": "python",
   "name": "python3"
  },
  "language_info": {
   "codemirror_mode": {
    "name": "ipython",
    "version": 3
   },
   "file_extension": ".py",
   "mimetype": "text/x-python",
   "name": "python",
   "nbconvert_exporter": "python",
   "pygments_lexer": "ipython3",
   "version": "3.9.12"
  },
  "orig_nbformat": 4,
  "vscode": {
   "interpreter": {
    "hash": "717b0984b08fa49729458a2f744fd21cee18cedafc19a5cab745ce1cf3f48a98"
   }
  }
 },
 "nbformat": 4,
 "nbformat_minor": 2
}
