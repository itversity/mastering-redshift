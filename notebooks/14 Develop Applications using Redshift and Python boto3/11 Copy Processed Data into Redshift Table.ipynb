{
 "cells": [
  {
   "cell_type": "markdown",
   "metadata": {},
   "source": [
    "Create Table in Redshift using below script.\n",
    "```sql\n",
    "CREATE TABLE order_revenue (\n",
    "    order_date DATE,\n",
    "    order_status VARCHAR,\n",
    "    order_item_product_id INT,\n",
    "    order_revenue FLOAT\n",
    ");\n",
    "\n",
    "ALTER TABLE order_revenue\n",
    "    OWNER TO retail_user;\n",
    "```"
   ]
  },
  {
   "cell_type": "code",
   "execution_count": 16,
   "metadata": {},
   "outputs": [],
   "source": [
    "import boto3"
   ]
  },
  {
   "cell_type": "code",
   "execution_count": 17,
   "metadata": {},
   "outputs": [],
   "source": [
    "rsd_client = boto3.client('redshift-data')"
   ]
  },
  {
   "cell_type": "code",
   "execution_count": 18,
   "metadata": {},
   "outputs": [],
   "source": [
    "rs_copy_command = '''\n",
    "    COPY order_revenue FROM 's3://airetail/retail_db_json/order_revenue' \n",
    "    IAM_ROLE 'arn:aws:iam::269066542444:role/AIRedshiftRetailSpectrum'\n",
    "    JSON AS 'auto'\n",
    "'''"
   ]
  },
  {
   "cell_type": "code",
   "execution_count": 19,
   "metadata": {},
   "outputs": [],
   "source": [
    "waiter_name = 'DataAPIExecution'\n",
    "\n",
    "delay=2\n",
    "max_attempts=3\n",
    "\n",
    "#Configure the waiter settings\n",
    "waiter_config = {\n",
    "  'version': 2,\n",
    "  'waiters': {\n",
    "    'DataAPIExecution': {\n",
    "      'operation': 'DescribeStatement',\n",
    "      'delay': delay,\n",
    "      'maxAttempts': max_attempts,\n",
    "      'acceptors': [\n",
    "        {\n",
    "          \"matcher\": \"path\",\n",
    "          \"expected\": \"FINISHED\",\n",
    "          \"argument\": \"Status\",\n",
    "          \"state\": \"success\"\n",
    "        },\n",
    "        {\n",
    "          \"matcher\": \"pathAny\",\n",
    "          \"expected\": [\"PICKED\",\"STARTED\",\"SUBMITTED\"],\n",
    "          \"argument\": \"Status\",\n",
    "          \"state\": \"retry\"\n",
    "        },\n",
    "        {\n",
    "          \"matcher\": \"pathAny\",\n",
    "          \"expected\": [\"FAILED\",\"ABORTED\"],\n",
    "          \"argument\": \"Status\",\n",
    "          \"state\": \"failure\"\n",
    "        }\n",
    "      ],\n",
    "    },\n",
    "  },\n",
    "}"
   ]
  },
  {
   "cell_type": "code",
   "execution_count": 20,
   "metadata": {},
   "outputs": [],
   "source": [
    "from botocore.exceptions import WaiterError\n",
    "from botocore.waiter import WaiterModel\n",
    "from botocore.waiter import create_waiter_with_client"
   ]
  },
  {
   "cell_type": "code",
   "execution_count": 21,
   "metadata": {},
   "outputs": [],
   "source": [
    "waiter_model = WaiterModel(waiter_config)"
   ]
  },
  {
   "cell_type": "code",
   "execution_count": 22,
   "metadata": {},
   "outputs": [],
   "source": [
    "custom_waiter = create_waiter_with_client(waiter_name, waiter_model, rsd_client)"
   ]
  },
  {
   "cell_type": "code",
   "execution_count": 26,
   "metadata": {},
   "outputs": [],
   "source": [
    "rs_copy_command_id = rsd_client.execute_statement(\n",
    "    WorkgroupName='retail-wg',\n",
    "    Database='retail_db',\n",
    "    Sql=rs_copy_command\n",
    ")['Id']\n",
    "\n",
    "try:\n",
    "    custom_waiter.wait(Id=rs_copy_command_id)    \n",
    "except WaiterError as e:\n",
    "    print (e)\n"
   ]
  },
  {
   "cell_type": "code",
   "execution_count": 27,
   "metadata": {},
   "outputs": [
    {
     "data": {
      "text/plain": [
       "{'CreatedAt': datetime.datetime(2022, 7, 18, 18, 28, 21, 403000, tzinfo=tzlocal()),\n",
       " 'Duration': 1665670121,\n",
       " 'HasResultSet': False,\n",
       " 'Id': '8693c9b8-7a13-40df-98d8-8adcf2a57411',\n",
       " 'QueryString': \"\\n    COPY order_revenue FROM 's3://airetail/retail_db_json/order_revenue' \\n    IAM_ROLE ''\\n    JSON AS 'auto'\\n\",\n",
       " 'RedshiftPid': 1073837843,\n",
       " 'RedshiftQueryId': 34908,\n",
       " 'ResultRows': 0,\n",
       " 'ResultSize': 0,\n",
       " 'Status': 'FINISHED',\n",
       " 'UpdatedAt': datetime.datetime(2022, 7, 18, 18, 28, 23, 520000, tzinfo=tzlocal()),\n",
       " 'WorkgroupName': 'retail-wg',\n",
       " 'ResponseMetadata': {'RequestId': '77467c38-9928-47e3-8224-a23b56c31f84',\n",
       "  'HTTPStatusCode': 200,\n",
       "  'HTTPHeaders': {'x-amzn-requestid': '77467c38-9928-47e3-8224-a23b56c31f84',\n",
       "   'content-type': 'application/x-amz-json-1.1',\n",
       "   'content-length': '403',\n",
       "   'date': 'Mon, 18 Jul 2022 12:58:27 GMT'},\n",
       "  'RetryAttempts': 0}}"
      ]
     },
     "execution_count": 27,
     "metadata": {},
     "output_type": "execute_result"
    }
   ],
   "source": [
    "rsd_client.describe_statement(Id=rs_copy_command_id)"
   ]
  },
  {
   "cell_type": "code",
   "execution_count": 10,
   "metadata": {},
   "outputs": [],
   "source": [
    "order_revenue_query = '''SELECT count(*) FROM order_revenue'''"
   ]
  },
  {
   "cell_type": "code",
   "execution_count": 11,
   "metadata": {},
   "outputs": [],
   "source": [
    "order_revenue_query_id = rsd_client.execute_statement(\n",
    "    WorkgroupName='retail-wg',\n",
    "    Database='retail_db',\n",
    "    Sql=order_revenue_query\n",
    ")['Id']"
   ]
  },
  {
   "cell_type": "code",
   "execution_count": 12,
   "metadata": {},
   "outputs": [
    {
     "data": {
      "text/plain": [
       "[[{'longValue': 38385}]]"
      ]
     },
     "execution_count": 12,
     "metadata": {},
     "output_type": "execute_result"
    }
   ],
   "source": [
    "rsd_client.get_statement_result(Id=order_revenue_query_id)['Records']"
   ]
  },
  {
   "cell_type": "code",
   "execution_count": null,
   "metadata": {},
   "outputs": [],
   "source": []
  }
 ],
 "metadata": {
  "kernelspec": {
   "display_name": "Python 3.9.12 ('mr-venv': venv)",
   "language": "python",
   "name": "python3"
  },
  "language_info": {
   "codemirror_mode": {
    "name": "ipython",
    "version": 3
   },
   "file_extension": ".py",
   "mimetype": "text/x-python",
   "name": "python",
   "nbconvert_exporter": "python",
   "pygments_lexer": "ipython3",
   "version": "3.9.12"
  },
  "orig_nbformat": 4,
  "vscode": {
   "interpreter": {
    "hash": "717b0984b08fa49729458a2f744fd21cee18cedafc19a5cab745ce1cf3f48a98"
   }
  }
 },
 "nbformat": 4,
 "nbformat_minor": 2
}
