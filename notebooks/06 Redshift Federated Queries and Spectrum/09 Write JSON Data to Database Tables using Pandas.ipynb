{
 "cells": [
  {
   "cell_type": "code",
   "execution_count": null,
   "metadata": {},
   "outputs": [],
   "source": [
    "import pandas as pd"
   ]
  },
  {
   "cell_type": "code",
   "execution_count": null,
   "metadata": {},
   "outputs": [],
   "source": [
    "table_name = input('Enter table name: ')"
   ]
  },
  {
   "cell_type": "code",
   "execution_count": null,
   "metadata": {},
   "outputs": [],
   "source": [
    "BASE_DIR = f'/Users/itversity/Research/data/retail_db_json/{table_name}'"
   ]
  },
  {
   "cell_type": "code",
   "execution_count": null,
   "metadata": {},
   "outputs": [],
   "source": [
    "import os"
   ]
  },
  {
   "cell_type": "code",
   "execution_count": null,
   "metadata": {},
   "outputs": [],
   "source": [
    "file_name = os.listdir(BASE_DIR)[0]"
   ]
  },
  {
   "cell_type": "code",
   "execution_count": null,
   "metadata": {},
   "outputs": [],
   "source": [
    "file_path = f'{BASE_DIR}/{file_name}'"
   ]
  },
  {
   "cell_type": "code",
   "execution_count": null,
   "metadata": {},
   "outputs": [],
   "source": [
    "df = pd.read_json(file_path, lines=True)"
   ]
  },
  {
   "cell_type": "code",
   "execution_count": null,
   "metadata": {},
   "outputs": [],
   "source": [
    "import boto3\n",
    "\n",
    "secret_name = \"retail.secrets\"\n",
    "region_name = \"us-east-1\"\n",
    "\n",
    "session = boto3.session.Session()\n",
    "client = session.client(\n",
    "    service_name='secretsmanager',\n",
    "    region_name=region_name\n",
    ")\n",
    "\n",
    "get_secret_value_response = client.get_secret_value(\n",
    "    SecretId=secret_name\n",
    ")\n",
    "\n",
    "import json\n",
    "\n",
    "s = json.loads(get_secret_value_response['SecretString'])\n",
    "\n",
    "s"
   ]
  },
  {
   "cell_type": "code",
   "execution_count": null,
   "metadata": {},
   "outputs": [],
   "source": [
    "get_secret_value_response = client.get_secret_value(\n",
    "    SecretId=secret_name\n",
    ")"
   ]
  },
  {
   "cell_type": "code",
   "execution_count": null,
   "metadata": {},
   "outputs": [],
   "source": [
    "db_name = 'retail_db'"
   ]
  },
  {
   "cell_type": "code",
   "execution_count": null,
   "metadata": {},
   "outputs": [],
   "source": [
    "conn = f\"\"\"postgresql://{s['username']}:{s['password']}@{s['host']}:{s['port']}/{db_name}\"\"\""
   ]
  },
  {
   "cell_type": "code",
   "execution_count": null,
   "metadata": {},
   "outputs": [],
   "source": [
    "df.to_sql(table_name, conn, if_exists='append', index=False)"
   ]
  },
  {
   "cell_type": "code",
   "execution_count": null,
   "metadata": {},
   "outputs": [],
   "source": [
    "import boto3\n",
    "import json\n",
    "\n",
    "def get_secrets(secret_name):\n",
    "    region_name = \"us-east-1\"\n",
    "\n",
    "    session = boto3.session.Session()\n",
    "    client = session.client(\n",
    "        service_name='secretsmanager',\n",
    "        region_name=region_name\n",
    "    )\n",
    "\n",
    "    get_secret_value_response = client.get_secret_value(\n",
    "        SecretId=secret_name\n",
    "    )\n",
    "\n",
    "    return json.loads(get_secret_value_response['SecretString'])"
   ]
  },
  {
   "cell_type": "code",
   "execution_count": null,
   "metadata": {},
   "outputs": [],
   "source": [
    "import os\n",
    "import pandas as pd\n",
    "\n",
    "def json_to_df(BASE_DIR, table_name):\n",
    "    file_name = os.listdir(BASE_DIR.format(table_name=table_name))[0]\n",
    "    file_path = f'{BASE_DIR.format(table_name=table_name)}/{file_name}'\n",
    "    return pd.read_json(file_path, lines=True)"
   ]
  },
  {
   "cell_type": "code",
   "execution_count": null,
   "metadata": {},
   "outputs": [],
   "source": [
    "import sys\n",
    "s = get_secrets('retail.secrets')\n",
    "db_name = 'retail_db'\n",
    "conn = f\"\"\"postgresql://{s['username']}:{s['password']}@{s['host']}:{s['port']}/{db_name}\"\"\"\n",
    "\n",
    "BASE_DIR = '/Users/itversity/Research/data/retail_db_json/{table_name}'\n",
    "for table_name in ['departments', 'categories', 'products', 'order_items', 'customers']:\n",
    "    try:\n",
    "        df = json_to_df(BASE_DIR, table_name)\n",
    "        df.to_sql(table_name, conn, if_exists='append', index=False)\n",
    "        print(f'{table_name} succesfully populated...')\n",
    "    except Exception as err:\n",
    "        print(f'{table_name} failed')\n",
    "        err_type, err_obj, traceback = sys.exc_info()\n",
    "\n",
    "        line_num = traceback.tb_lineno\n",
    "        print (\"\\npsycopg2 ERROR:\", err, \"on line number:\", line_num)\n",
    "        print (\"psycopg2 traceback:\", traceback, \"-- type:\", err_type)"
   ]
  }
 ],
 "metadata": {
  "kernelspec": {
   "display_name": "Python 3.9.12 ('mr-venv': venv)",
   "language": "python",
   "name": "python3"
  },
  "language_info": {
   "codemirror_mode": {
    "name": "ipython",
    "version": 3
   },
   "file_extension": ".py",
   "mimetype": "text/x-python",
   "name": "python",
   "nbconvert_exporter": "python",
   "pygments_lexer": "ipython3",
   "version": "3.9.12"
  },
  "vscode": {
   "interpreter": {
    "hash": "717b0984b08fa49729458a2f744fd21cee18cedafc19a5cab745ce1cf3f48a98"
   }
  }
 },
 "nbformat": 4,
 "nbformat_minor": 4
}
