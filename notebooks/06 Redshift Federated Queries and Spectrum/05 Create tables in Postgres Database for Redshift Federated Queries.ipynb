{
 "cells": [
  {
   "cell_type": "markdown",
   "metadata": {},
   "source": [
    "## Create tables in Postgres Database for Redshift Federated Queries\n",
    "\n",
    "First we need to ensure the following before running the below commands to create Database Tables and also load data into the Tables using Postgres.\n",
    "* Overview of integrating different Database Servers\n",
    "* Create IAM Role for Redshift Federated Queries and Spectrum\n",
    "* Create Postgres Database Server"
   ]
  },
  {
   "cell_type": "markdown",
   "metadata": {},
   "source": [
    "Here are the commands to create Database and then admin user for the Database in Postgres Database Server.\n",
    "\n",
    "```shell\n",
    "psql -h retail.cfrxujtpbrro.us-east-1.rds.amazonaws.com \\\n",
    "  -p 5432 \\\n",
    "  -U postgres \\\n",
    "  -W\n",
    "```\n",
    "\n",
    "```sql\n",
    "CREATE DATABASE retail_db;\n",
    "CREATE USER retail_user WITH ENCRYPTED PASSWORD 'itversity123';\n",
    "GRANT ALL ON DATABASE retail_db TO retail_user;\n",
    "\n",
    "\\q\n",
    "```\n",
    "\n",
    "Here are the commands to create tables in newly created database **retail_db** using user **retail_user**.\n",
    "```shell\n",
    "psql -h retail.cfrxujtpbrro.us-east-1.rds.amazonaws.com \\\n",
    "  -p 5432 \\\n",
    "  -U retail_user \\\n",
    "  -d retail_db \\\n",
    "  -W\n",
    "```\n",
    "\n",
    "```sql\n",
    "\\i /Users/itversity/Research/data/retail_db_json/create_db_tables_pg.sql\n",
    "\\d\n",
    "\n",
    "\\q\n",
    "```"
   ]
  },
  {
   "cell_type": "code",
   "execution_count": null,
   "metadata": {},
   "outputs": [],
   "source": []
  }
 ],
 "metadata": {
  "kernelspec": {
   "display_name": "Python 3",
   "language": "python",
   "name": "python3"
  },
  "language_info": {
   "codemirror_mode": {
    "name": "ipython",
    "version": 3
   },
   "file_extension": ".py",
   "mimetype": "text/x-python",
   "name": "python",
   "nbconvert_exporter": "python",
   "pygments_lexer": "ipython3",
   "version": "3.7.11"
  }
 },
 "nbformat": 4,
 "nbformat_minor": 4
}
